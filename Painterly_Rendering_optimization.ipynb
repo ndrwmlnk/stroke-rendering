{
  "cells": [
    {
      "cell_type": "markdown",
      "metadata": {
        "id": "e7DCzf-EHzL_"
      },
      "source": [
        "# Diffvg painterly rendering\n",
        "### With different loss functions\n",
        "### Based on CLIPDraw\n",
        "\n",
        "This Colab notebook is adapted by **Florian Nolte** from CLIPDraw (Kevin Frans, L.B. Soros, Olaf Witkowski): [CLIPDraw: Exploring Text-to-Drawing Synthesis through Language-Image Encoders](https://arxiv.org/abs/2106.14843) \n",
        "\n",
        "Rendereing code adapted from diffvg: https://github.com/BachiLi/diffvg/blob/master/apps/painterly_rendering.py\n",
        "\n",
        "\n",
        "CLIPDRaw blog post: [https://kvfrans.com/clipdraw-exploring-text-to-drawing-synthesis/](https://kvfrans.com/clipdraw-exploring-text-to-drawing-synthesis/)\n",
        "\n",
        "--- \n",
        "\n",
        "\n",
        "**STEPS:**\n",
        "\n",
        "INSTALLATION AND SETUP\n",
        "0. \n",
        "  1. Click \"Connect\" in the top right corner\n",
        "  2. Runtime -> Change runtime type -> Hardware accelerator -> GPU\n",
        "  2. Click the run button on \"Pre Installation\". This will install dependencies, it may take a while.\n",
        "  3. **Important:** Runtime -> Restart Runtime\n",
        "  4. You can now run the notebook cells\n",
        "1.  These cells are imports and utilities, needed for training and curve optimization\n",
        "2. Load the CLIP model. This only works on GPU!\n",
        "3. Training of custom stroke loss. This can be completely skipped if you only want to use the curve optimizer with other losses\n",
        "4. Curve optimizer to paint images with different loss functions"
      ]
    },
    {
      "cell_type": "code",
      "execution_count": null,
      "metadata": {
        "colab": {
          "base_uri": "https://localhost:8080/"
        },
        "id": "5dyyH781qzIC",
        "outputId": "4ffbf19b-929c-4c74-b2a7-d4442feef48d"
      },
      "outputs": [
        {
          "output_type": "stream",
          "name": "stdout",
          "text": [
            "CUDA version: 11.2\n",
            "/content\n",
            "Looking in indexes: https://pypi.org/simple, https://us-python.pkg.dev/colab-wheels/public/simple/\n",
            "Collecting svgwrite\n",
            "  Downloading svgwrite-1.4.3-py3-none-any.whl (67 kB)\n",
            "\u001b[K     |████████████████████████████████| 67 kB 983 kB/s \n",
            "\u001b[?25hInstalling collected packages: svgwrite\n",
            "Successfully installed svgwrite-1.4.3\n",
            "Looking in indexes: https://pypi.org/simple, https://us-python.pkg.dev/colab-wheels/public/simple/\n",
            "Collecting svgpathtools\n",
            "  Downloading svgpathtools-1.5.1-py2.py3-none-any.whl (67 kB)\n",
            "\u001b[K     |████████████████████████████████| 67 kB 1.6 MB/s \n",
            "\u001b[?25hRequirement already satisfied: svgwrite in /usr/local/lib/python3.7/dist-packages (from svgpathtools) (1.4.3)\n",
            "Requirement already satisfied: scipy in /usr/local/lib/python3.7/dist-packages (from svgpathtools) (1.7.3)\n",
            "Requirement already satisfied: numpy in /usr/local/lib/python3.7/dist-packages (from svgpathtools) (1.21.6)\n",
            "Installing collected packages: svgpathtools\n",
            "Successfully installed svgpathtools-1.5.1\n",
            "Looking in indexes: https://pypi.org/simple, https://us-python.pkg.dev/colab-wheels/public/simple/\n",
            "Collecting cssutils\n",
            "  Downloading cssutils-2.6.0-py3-none-any.whl (399 kB)\n",
            "\u001b[K     |████████████████████████████████| 399 kB 6.1 MB/s \n",
            "\u001b[?25hRequirement already satisfied: importlib-metadata in /usr/local/lib/python3.7/dist-packages (from cssutils) (4.13.0)\n",
            "Requirement already satisfied: zipp>=0.5 in /usr/local/lib/python3.7/dist-packages (from importlib-metadata->cssutils) (3.10.0)\n",
            "Requirement already satisfied: typing-extensions>=3.6.4 in /usr/local/lib/python3.7/dist-packages (from importlib-metadata->cssutils) (4.1.1)\n",
            "Installing collected packages: cssutils\n",
            "Successfully installed cssutils-2.6.0\n",
            "Looking in indexes: https://pypi.org/simple, https://us-python.pkg.dev/colab-wheels/public/simple/\n",
            "Requirement already satisfied: numba in /usr/local/lib/python3.7/dist-packages (0.56.3)\n",
            "Requirement already satisfied: importlib-metadata in /usr/local/lib/python3.7/dist-packages (from numba) (4.13.0)\n",
            "Requirement already satisfied: setuptools in /usr/local/lib/python3.7/dist-packages (from numba) (57.4.0)\n",
            "Requirement already satisfied: numpy<1.24,>=1.18 in /usr/local/lib/python3.7/dist-packages (from numba) (1.21.6)\n",
            "Requirement already satisfied: llvmlite<0.40,>=0.39.0dev0 in /usr/local/lib/python3.7/dist-packages (from numba) (0.39.1)\n",
            "Requirement already satisfied: typing-extensions>=3.6.4 in /usr/local/lib/python3.7/dist-packages (from importlib-metadata->numba) (4.1.1)\n",
            "Requirement already satisfied: zipp>=0.5 in /usr/local/lib/python3.7/dist-packages (from importlib-metadata->numba) (3.10.0)\n",
            "Looking in indexes: https://pypi.org/simple, https://us-python.pkg.dev/colab-wheels/public/simple/\n",
            "Collecting torch-tools\n",
            "  Downloading torch_tools-0.1.5-py3-none-any.whl (43 kB)\n",
            "\u001b[K     |████████████████████████████████| 43 kB 1.6 MB/s \n",
            "\u001b[?25hRequirement already satisfied: imageio in /usr/local/lib/python3.7/dist-packages (from torch-tools) (2.9.0)\n",
            "Requirement already satisfied: torch in /usr/local/lib/python3.7/dist-packages (from torch-tools) (1.12.1+cu113)\n",
            "Requirement already satisfied: numpy in /usr/local/lib/python3.7/dist-packages (from torch-tools) (1.21.6)\n",
            "Collecting coloredlogs\n",
            "  Downloading coloredlogs-15.0.1-py2.py3-none-any.whl (46 kB)\n",
            "\u001b[K     |████████████████████████████████| 46 kB 4.4 MB/s \n",
            "\u001b[?25hCollecting visdom\n",
            "  Downloading visdom-0.2.3.tar.gz (1.4 MB)\n",
            "\u001b[K     |████████████████████████████████| 1.4 MB 30.0 MB/s \n",
            "\u001b[?25hCollecting pyaml\n",
            "  Downloading pyaml-21.10.1-py2.py3-none-any.whl (24 kB)\n",
            "Requirement already satisfied: torchvision in /usr/local/lib/python3.7/dist-packages (from torch-tools) (0.13.1+cu113)\n",
            "Requirement already satisfied: tqdm in /usr/local/lib/python3.7/dist-packages (from torch-tools) (4.64.1)\n",
            "Requirement already satisfied: seaborn in /usr/local/lib/python3.7/dist-packages (from torch-tools) (0.11.2)\n",
            "Requirement already satisfied: jinja2 in /usr/local/lib/python3.7/dist-packages (from torch-tools) (2.11.3)\n",
            "Collecting imageio-ffmpeg\n",
            "  Downloading imageio_ffmpeg-0.4.7-py3-none-manylinux2010_x86_64.whl (26.9 MB)\n",
            "\u001b[K     |████████████████████████████████| 26.9 MB 9.7 MB/s \n",
            "\u001b[?25hRequirement already satisfied: sqlalchemy in /usr/local/lib/python3.7/dist-packages (from torch-tools) (1.4.42)\n",
            "Collecting humanfriendly>=9.1\n",
            "  Downloading humanfriendly-10.0-py2.py3-none-any.whl (86 kB)\n",
            "\u001b[K     |████████████████████████████████| 86 kB 3.9 MB/s \n",
            "\u001b[?25hRequirement already satisfied: pillow in /usr/local/lib/python3.7/dist-packages (from imageio->torch-tools) (7.1.2)\n",
            "Requirement already satisfied: MarkupSafe>=0.23 in /usr/local/lib/python3.7/dist-packages (from jinja2->torch-tools) (2.0.1)\n",
            "Requirement already satisfied: PyYAML in /usr/local/lib/python3.7/dist-packages (from pyaml->torch-tools) (6.0)\n",
            "Requirement already satisfied: scipy>=1.0 in /usr/local/lib/python3.7/dist-packages (from seaborn->torch-tools) (1.7.3)\n",
            "Requirement already satisfied: matplotlib>=2.2 in /usr/local/lib/python3.7/dist-packages (from seaborn->torch-tools) (3.2.2)\n",
            "Requirement already satisfied: pandas>=0.23 in /usr/local/lib/python3.7/dist-packages (from seaborn->torch-tools) (1.3.5)\n",
            "Requirement already satisfied: cycler>=0.10 in /usr/local/lib/python3.7/dist-packages (from matplotlib>=2.2->seaborn->torch-tools) (0.11.0)\n",
            "Requirement already satisfied: pyparsing!=2.0.4,!=2.1.2,!=2.1.6,>=2.0.1 in /usr/local/lib/python3.7/dist-packages (from matplotlib>=2.2->seaborn->torch-tools) (3.0.9)\n",
            "Requirement already satisfied: kiwisolver>=1.0.1 in /usr/local/lib/python3.7/dist-packages (from matplotlib>=2.2->seaborn->torch-tools) (1.4.4)\n",
            "Requirement already satisfied: python-dateutil>=2.1 in /usr/local/lib/python3.7/dist-packages (from matplotlib>=2.2->seaborn->torch-tools) (2.8.2)\n",
            "Requirement already satisfied: typing-extensions in /usr/local/lib/python3.7/dist-packages (from kiwisolver>=1.0.1->matplotlib>=2.2->seaborn->torch-tools) (4.1.1)\n",
            "Requirement already satisfied: pytz>=2017.3 in /usr/local/lib/python3.7/dist-packages (from pandas>=0.23->seaborn->torch-tools) (2022.5)\n",
            "Requirement already satisfied: six>=1.5 in /usr/local/lib/python3.7/dist-packages (from python-dateutil>=2.1->matplotlib>=2.2->seaborn->torch-tools) (1.15.0)\n",
            "Requirement already satisfied: importlib-metadata in /usr/local/lib/python3.7/dist-packages (from sqlalchemy->torch-tools) (4.13.0)\n",
            "Requirement already satisfied: greenlet!=0.4.17 in /usr/local/lib/python3.7/dist-packages (from sqlalchemy->torch-tools) (1.1.3.post0)\n",
            "Requirement already satisfied: zipp>=0.5 in /usr/local/lib/python3.7/dist-packages (from importlib-metadata->sqlalchemy->torch-tools) (3.10.0)\n",
            "Requirement already satisfied: requests in /usr/local/lib/python3.7/dist-packages (from torchvision->torch-tools) (2.23.0)\n",
            "Requirement already satisfied: certifi>=2017.4.17 in /usr/local/lib/python3.7/dist-packages (from requests->torchvision->torch-tools) (2022.9.24)\n",
            "Requirement already satisfied: idna<3,>=2.5 in /usr/local/lib/python3.7/dist-packages (from requests->torchvision->torch-tools) (2.10)\n",
            "Requirement already satisfied: urllib3!=1.25.0,!=1.25.1,<1.26,>=1.21.1 in /usr/local/lib/python3.7/dist-packages (from requests->torchvision->torch-tools) (1.24.3)\n",
            "Requirement already satisfied: chardet<4,>=3.0.2 in /usr/local/lib/python3.7/dist-packages (from requests->torchvision->torch-tools) (3.0.4)\n",
            "Requirement already satisfied: tornado in /usr/local/lib/python3.7/dist-packages (from visdom->torch-tools) (5.1.1)\n",
            "Collecting jsonpatch\n",
            "  Downloading jsonpatch-1.32-py2.py3-none-any.whl (12 kB)\n",
            "Collecting websocket-client\n",
            "  Downloading websocket_client-1.4.2-py3-none-any.whl (55 kB)\n",
            "\u001b[K     |████████████████████████████████| 55 kB 3.1 MB/s \n",
            "\u001b[?25hRequirement already satisfied: networkx in /usr/local/lib/python3.7/dist-packages (from visdom->torch-tools) (2.6.3)\n",
            "Collecting jsonpointer>=1.9\n",
            "  Downloading jsonpointer-2.3-py2.py3-none-any.whl (7.8 kB)\n",
            "Building wheels for collected packages: visdom\n",
            "  Building wheel for visdom (setup.py) ... \u001b[?25l\u001b[?25hdone\n",
            "  Created wheel for visdom: filename=visdom-0.2.3-py3-none-any.whl size=1417108 sha256=ed94cdf204fbd58ef5a09569b9614d73087aff70d3d91b4252ef7ed45c302b63\n",
            "  Stored in directory: /root/.cache/pip/wheels/6c/cc/34/0a5e6c65ecd5efecaebb4e9a913d438643dbc50e739d1662ca\n",
            "Successfully built visdom\n",
            "Installing collected packages: jsonpointer, websocket-client, jsonpatch, humanfriendly, visdom, pyaml, imageio-ffmpeg, coloredlogs, torch-tools\n",
            "Successfully installed coloredlogs-15.0.1 humanfriendly-10.0 imageio-ffmpeg-0.4.7 jsonpatch-1.32 jsonpointer-2.3 pyaml-21.10.1 torch-tools-0.1.5 visdom-0.2.3 websocket-client-1.4.2\n",
            "Looking in indexes: https://pypi.org/simple, https://us-python.pkg.dev/colab-wheels/public/simple/\n",
            "Requirement already satisfied: visdom in /usr/local/lib/python3.7/dist-packages (0.2.3)\n",
            "Requirement already satisfied: jsonpatch in /usr/local/lib/python3.7/dist-packages (from visdom) (1.32)\n",
            "Requirement already satisfied: pillow in /usr/local/lib/python3.7/dist-packages (from visdom) (7.1.2)\n",
            "Requirement already satisfied: tornado in /usr/local/lib/python3.7/dist-packages (from visdom) (5.1.1)\n",
            "Requirement already satisfied: six in /usr/local/lib/python3.7/dist-packages (from visdom) (1.15.0)\n",
            "Requirement already satisfied: websocket-client in /usr/local/lib/python3.7/dist-packages (from visdom) (1.4.2)\n",
            "Requirement already satisfied: requests in /usr/local/lib/python3.7/dist-packages (from visdom) (2.23.0)\n",
            "Requirement already satisfied: numpy>=1.8 in /usr/local/lib/python3.7/dist-packages (from visdom) (1.21.6)\n",
            "Requirement already satisfied: networkx in /usr/local/lib/python3.7/dist-packages (from visdom) (2.6.3)\n",
            "Requirement already satisfied: scipy in /usr/local/lib/python3.7/dist-packages (from visdom) (1.7.3)\n",
            "Requirement already satisfied: jsonpointer>=1.9 in /usr/local/lib/python3.7/dist-packages (from jsonpatch->visdom) (2.3)\n",
            "Requirement already satisfied: urllib3!=1.25.0,!=1.25.1,<1.26,>=1.21.1 in /usr/local/lib/python3.7/dist-packages (from requests->visdom) (1.24.3)\n",
            "Requirement already satisfied: idna<3,>=2.5 in /usr/local/lib/python3.7/dist-packages (from requests->visdom) (2.10)\n",
            "Requirement already satisfied: certifi>=2017.4.17 in /usr/local/lib/python3.7/dist-packages (from requests->visdom) (2022.9.24)\n",
            "Requirement already satisfied: chardet<4,>=3.0.2 in /usr/local/lib/python3.7/dist-packages (from requests->visdom) (3.0.4)\n",
            "Cloning into 'diffvg'...\n",
            "remote: Enumerating objects: 279, done.\u001b[K\n",
            "remote: Total 279 (delta 0), reused 0 (delta 0), pack-reused 279\u001b[K\n",
            "Receiving objects: 100% (279/279), 10.27 MiB | 20.74 MiB/s, done.\n",
            "Resolving deltas: 100% (105/105), done.\n",
            "/content/diffvg\n",
            "Submodule 'pybind11' (https://github.com/pybind/pybind11.git) registered for path 'pybind11'\n",
            "Submodule 'thrust' (https://github.com/thrust/thrust.git) registered for path 'thrust'\n",
            "Cloning into '/content/diffvg/pybind11'...\n",
            "Cloning into '/content/diffvg/thrust'...\n",
            "Submodule path 'pybind11': checked out '72b06b86b3824781f31c790dfce67e26e6307816'\n",
            "Submodule 'tools/clang' (https://github.com/wjakob/clang-cindex-python3.git) registered for path 'pybind11/tools/clang'\n",
            "Cloning into '/content/diffvg/pybind11/tools/clang'...\n",
            "Submodule path 'pybind11/tools/clang': checked out '6a00cbc4a9b8e68b71caf7f774b3f9c753ae84d5'\n",
            "Submodule path 'thrust': checked out 'ff00c813aa3a6bbfd1d8c338313f382b6b340005'\n",
            "Submodule 'cub' (https://github.com/thrust/cub.git) registered for path 'thrust/dependencies/cub'\n",
            "Cloning into '/content/diffvg/thrust/dependencies/cub'...\n",
            "Submodule path 'thrust/dependencies/cub': checked out '2442f44532ffcc53298c7e3a298feb5134563860'\n",
            "running install\n",
            "running bdist_egg\n",
            "running egg_info\n",
            "creating diffvg.egg-info\n",
            "writing diffvg.egg-info/PKG-INFO\n",
            "writing dependency_links to diffvg.egg-info/dependency_links.txt\n",
            "writing requirements to diffvg.egg-info/requires.txt\n",
            "writing top-level names to diffvg.egg-info/top_level.txt\n",
            "writing manifest file 'diffvg.egg-info/SOURCES.txt'\n",
            "adding license file 'LICENSE'\n",
            "writing manifest file 'diffvg.egg-info/SOURCES.txt'\n",
            "installing library code to build/bdist.linux-x86_64/egg\n",
            "running install_lib\n",
            "running build_py\n",
            "creating build\n",
            "creating build/lib.linux-x86_64-3.7\n",
            "creating build/lib.linux-x86_64-3.7/pydiffvg\n",
            "copying pydiffvg/pixel_filter.py -> build/lib.linux-x86_64-3.7/pydiffvg\n",
            "copying pydiffvg/parse_svg.py -> build/lib.linux-x86_64-3.7/pydiffvg\n",
            "copying pydiffvg/optimize_svg.py -> build/lib.linux-x86_64-3.7/pydiffvg\n",
            "copying pydiffvg/device.py -> build/lib.linux-x86_64-3.7/pydiffvg\n",
            "copying pydiffvg/color.py -> build/lib.linux-x86_64-3.7/pydiffvg\n",
            "copying pydiffvg/save_svg.py -> build/lib.linux-x86_64-3.7/pydiffvg\n",
            "copying pydiffvg/render_pytorch.py -> build/lib.linux-x86_64-3.7/pydiffvg\n",
            "copying pydiffvg/shape.py -> build/lib.linux-x86_64-3.7/pydiffvg\n",
            "copying pydiffvg/image.py -> build/lib.linux-x86_64-3.7/pydiffvg\n",
            "copying pydiffvg/__init__.py -> build/lib.linux-x86_64-3.7/pydiffvg\n",
            "creating build/lib.linux-x86_64-3.7/pydiffvg_tensorflow\n",
            "copying pydiffvg_tensorflow/pixel_filter.py -> build/lib.linux-x86_64-3.7/pydiffvg_tensorflow\n",
            "copying pydiffvg_tensorflow/render_tensorflow.py -> build/lib.linux-x86_64-3.7/pydiffvg_tensorflow\n",
            "copying pydiffvg_tensorflow/device.py -> build/lib.linux-x86_64-3.7/pydiffvg_tensorflow\n",
            "copying pydiffvg_tensorflow/color.py -> build/lib.linux-x86_64-3.7/pydiffvg_tensorflow\n",
            "copying pydiffvg_tensorflow/shape.py -> build/lib.linux-x86_64-3.7/pydiffvg_tensorflow\n",
            "copying pydiffvg_tensorflow/image.py -> build/lib.linux-x86_64-3.7/pydiffvg_tensorflow\n",
            "copying pydiffvg_tensorflow/__init__.py -> build/lib.linux-x86_64-3.7/pydiffvg_tensorflow\n",
            "running build_ext\n",
            "-- The C compiler identification is GNU 7.5.0\n",
            "-- The CXX compiler identification is GNU 7.5.0\n",
            "-- Detecting C compiler ABI info\n",
            "-- Detecting C compiler ABI info - done\n",
            "-- Check for working C compiler: /usr/bin/cc - skipped\n",
            "-- Detecting C compile features\n",
            "-- Detecting C compile features - done\n",
            "-- Detecting CXX compiler ABI info\n",
            "-- Detecting CXX compiler ABI info - done\n",
            "-- Check for working CXX compiler: /usr/bin/c++ - skipped\n",
            "-- Detecting CXX compile features\n",
            "-- Detecting CXX compile features - done\n",
            "-- Found Python: /usr/include/python3.7m (found suitable version \"3.7.15\", minimum required is \"3.7\") found components: Development Development.Module Development.Embed \n",
            "-- pybind11 v2.6.0 dev\n",
            "\u001b[33mCMake Warning (dev) at /usr/local/lib/python3.7/dist-packages/cmake/data/share/cmake-3.22/Modules/CMakeDependentOption.cmake:84 (message):\n",
            "  Policy CMP0127 is not set: cmake_dependent_option() supports full Condition\n",
            "  Syntax.  Run \"cmake --help-policy CMP0127\" for policy details.  Use the\n",
            "  cmake_policy command to set the policy and suppress this warning.\n",
            "Call Stack (most recent call first):\n",
            "  pybind11/CMakeLists.txt:91 (cmake_dependent_option)\n",
            "This warning is for project developers.  Use -Wno-dev to suppress it.\n",
            "\u001b[0m\n",
            "-- Performing Test HAS_FLTO\n",
            "-- Performing Test HAS_FLTO - Success\n",
            "-- Using pybind11: (version \"2.6.0\" dev)\n",
            "-- Build with CUDA support\n",
            "-- Looking for pthread.h\n",
            "-- Looking for pthread.h - found\n",
            "-- Performing Test CMAKE_HAVE_LIBC_PTHREAD\n",
            "-- Performing Test CMAKE_HAVE_LIBC_PTHREAD - Failed\n",
            "-- Looking for pthread_create in pthreads\n",
            "-- Looking for pthread_create in pthreads - not found\n",
            "-- Looking for pthread_create in pthread\n",
            "-- Looking for pthread_create in pthread - found\n",
            "-- Found Threads: TRUE  \n",
            "-- Found CUDA: /usr/local/cuda (found suitable version \"11.2\", minimum required is \"10\") \n",
            "-- Found PythonLibs: /usr/lib/x86_64-linux-gnu/libpython3.7m.so (found version \"3.7.15\") \n",
            "\u001b[0mINFO Building without TensorFlow support (not found)\u001b[0m\n",
            "-- Configuring done\n",
            "-- Generating done\n",
            "-- Build files have been written to: /content/diffvg/build/temp.linux-x86_64-3.7\n",
            "[ 28%] \u001b[34m\u001b[1mBuilding NVCC (Device) object CMakeFiles/diffvg.dir/diffvg_generated_scene.cpp.o\u001b[0m\n",
            "[ 28%] \u001b[34m\u001b[1mBuilding NVCC (Device) object CMakeFiles/diffvg.dir/diffvg_generated_diffvg.cpp.o\u001b[0m\n",
            "In file included from /usr/local/cuda/include/thrust/detail/config/config.h:27:0,\n",
            "                 from /usr/local/cuda/include/thrust/detail/config.h:23,\n",
            "                 from /usr/local/cuda/include/thrust/execution_policy.h:23,\n",
            "                 from /content/diffvg/diffvg.cpp:22:\n",
            "/usr/local/cuda/include/thrust/detail/config/cpp_dialect.h:118:13: warning: Thrust requires C++14. Please pass -std=c++14 to your compiler. Define THRUST_IGNORE_DEPRECATED_CPP_DIALECT to suppress this message.\n",
            "   THRUST_COMPILER_DEPRECATION(C++14, pass -std=c++14 to your compiler);\n",
            "             ^~~~~~~~~~~~~~~~~~~~~~~~~~~~~~~~~~~~~~~~~~~~~~~~~~~~~~~~~~~                                                                            \n",
            "In file included from /usr/local/cuda/include/cub/util_arch.cuh:36:0,\n",
            "                 from /usr/local/cuda/include/thrust/system/cuda/detail/util.h:32,\n",
            "                 from /usr/local/cuda/include/thrust/system/cuda/detail/for_each.h:34,\n",
            "                 from /usr/local/cuda/include/thrust/system/detail/adl/for_each.h:42,\n",
            "                 from /usr/local/cuda/include/thrust/detail/for_each.inl:27,\n",
            "                 from /usr/local/cuda/include/thrust/for_each.h:279,\n",
            "                 from /usr/local/cuda/include/thrust/system/detail/generic/transform.inl:19,\n",
            "                 from /usr/local/cuda/include/thrust/system/detail/generic/transform.h:105,\n",
            "                 from /usr/local/cuda/include/thrust/detail/transform.inl:25,\n",
            "                 from /usr/local/cuda/include/thrust/transform.h:724,\n",
            "                 from /usr/local/cuda/include/thrust/system/detail/generic/copy.inl:23,\n",
            "                 from /usr/local/cuda/include/thrust/system/detail/generic/copy.h:58,\n",
            "                 from /usr/local/cuda/include/thrust/detail/copy.inl:21,\n",
            "                 from /usr/local/cuda/include/thrust/detail/copy.h:90,\n",
            "                 from /usr/local/cuda/include/thrust/system/detail/sequential/merge.inl:19,\n",
            "                 from /usr/local/cuda/include/thrust/system/detail/sequential/merge.h:79,\n",
            "                 from /usr/local/cuda/include/thrust/system/cpp/detail/merge.h:22,\n",
            "                 from /usr/local/cuda/include/thrust/system/cpp/execution_policy.h:51,\n",
            "                 from /usr/local/cuda/include/thrust/execution_policy.h:32,\n",
            "                 from /content/diffvg/diffvg.cpp:22:\n",
            "/usr/local/cuda/include/cub/util_cpp_dialect.cuh:129:13: warning: CUB requires C++14. Please pass -std=c++14 to your compiler. Define CUB_IGNORE_DEPRECATED_CPP_DIALECT to suppress this message.\n",
            "   CUB_COMPILER_DEPRECATION(C++14, pass -std=c++14 to your compiler);\n",
            "             ^~~~~~~~~~~~~~~~~~~~~~~~~~~~~~~~~~~~~~~~~~~~~~~~~~~~~~~~                                                                         \n",
            "In file included from /usr/local/cuda/include/thrust/detail/config/config.h:27:0,\n",
            "                 from /usr/local/cuda/include/thrust/detail/config.h:23,\n",
            "                 from /usr/local/cuda/include/thrust/execution_policy.h:23,\n",
            "                 from /content/diffvg/diffvg.cpp:22:\n",
            "/usr/local/cuda/include/thrust/detail/config/cpp_dialect.h:118:13: warning: Thrust requires C++14. Please pass -std=c++14 to your compiler. Define THRUST_IGNORE_DEPRECATED_CPP_DIALECT to suppress this message.\n",
            "   THRUST_COMPILER_DEPRECATION(C++14, pass -std=c++14 to your compiler);\n",
            "             ^~~~~~~~~~~~~~~~~~~~~~~~~~~~~~~~~~~~~~~~~~~~~~~~~~~~~~~~~~~                                                                            \n",
            "In file included from /usr/local/cuda/include/cub/util_arch.cuh:36:0,\n",
            "                 from /usr/local/cuda/include/thrust/system/cuda/detail/util.h:32,\n",
            "                 from /usr/local/cuda/include/thrust/system/cuda/detail/for_each.h:34,\n",
            "                 from /usr/local/cuda/include/thrust/system/detail/adl/for_each.h:42,\n",
            "                 from /usr/local/cuda/include/thrust/detail/for_each.inl:27,\n",
            "                 from /usr/local/cuda/include/thrust/for_each.h:279,\n",
            "                 from /usr/local/cuda/include/thrust/system/detail/generic/transform.inl:19,\n",
            "                 from /usr/local/cuda/include/thrust/system/detail/generic/transform.h:105,\n",
            "                 from /usr/local/cuda/include/thrust/detail/transform.inl:25,\n",
            "                 from /usr/local/cuda/include/thrust/transform.h:724,\n",
            "                 from /usr/local/cuda/include/thrust/system/detail/generic/copy.inl:23,\n",
            "                 from /usr/local/cuda/include/thrust/system/detail/generic/copy.h:58,\n",
            "                 from /usr/local/cuda/include/thrust/detail/copy.inl:21,\n",
            "                 from /usr/local/cuda/include/thrust/detail/copy.h:90,\n",
            "                 from /usr/local/cuda/include/thrust/system/detail/sequential/merge.inl:19,\n",
            "                 from /usr/local/cuda/include/thrust/system/detail/sequential/merge.h:79,\n",
            "                 from /usr/local/cuda/include/thrust/system/cpp/detail/merge.h:22,\n",
            "                 from /usr/local/cuda/include/thrust/system/cpp/execution_policy.h:51,\n",
            "                 from /usr/local/cuda/include/thrust/execution_policy.h:32,\n",
            "                 from /content/diffvg/diffvg.cpp:22:\n",
            "/usr/local/cuda/include/cub/util_cpp_dialect.cuh:129:13: warning: CUB requires C++14. Please pass -std=c++14 to your compiler. Define CUB_IGNORE_DEPRECATED_CPP_DIALECT to suppress this message.\n",
            "   CUB_COMPILER_DEPRECATION(C++14, pass -std=c++14 to your compiler);\n",
            "             ^~~~~~~~~~~~~~~~~~~~~~~~~~~~~~~~~~~~~~~~~~~~~~~~~~~~~~~~                                                                         \n",
            "/content/diffvg/pybind11/include/pybind11/cast.h(1041): warning: pointless comparison of unsigned integer with zero\n",
            "          detected during:\n",
            "            instantiation of \"__nv_bool pybind11::detail::type_caster<T, pybind11::detail::enable_if_t<<expression>, void>>::load(pybind11::handle, __nv_bool) [with T=pybind11::detail::intrinsic_t<std::size_t>]\" \n",
            "(2004): here\n",
            "            instantiation of \"__nv_bool pybind11::detail::argument_loader<Args...>::load_impl_sequence(pybind11::detail::function_call &, pybind11::detail::index_sequence<Is...>) [with Args=<pybind11::detail::value_and_holder &, std::size_t>, Is=<0UL, 1UL>]\" \n",
            "(1980): here\n",
            "            instantiation of \"__nv_bool pybind11::detail::argument_loader<Args...>::load_args(pybind11::detail::function_call &) [with Args=<pybind11::detail::value_and_holder &, std::size_t>]\" \n",
            "/content/diffvg/pybind11/include/pybind11/pybind11.h(159): here\n",
            "            instantiation of \"void pybind11::cpp_function::initialize(Func &&, Return (*)(Args...), const Extra &...) [with Func=lambda [](pybind11::detail::value_and_holder &, std::size_t)->void, Return=void, Args=<pybind11::detail::value_and_holder &, std::size_t>, Extra=<pybind11::name, pybind11::is_method, pybind11::sibling, pybind11::detail::is_new_style_constructor>]\" \n",
            "/content/diffvg/pybind11/include/pybind11/pybind11.h(72): here\n",
            "            instantiation of \"pybind11::cpp_function::cpp_function(Func &&, const Extra &...) [with Func=lambda [](pybind11::detail::value_and_holder &, std::size_t)->void, Extra=<pybind11::name, pybind11::is_method, pybind11::sibling, pybind11::detail::is_new_style_constructor>, <unnamed>=void]\" \n",
            "/content/diffvg/pybind11/include/pybind11/pybind11.h(1162): here\n",
            "            instantiation of \"pybind11::class_<type_, options...> &pybind11::class_<type_, options...>::def(const char *, Func &&, const Extra &...) [with type_=ptr<void>, options=<>, Func=lambda [](pybind11::detail::value_and_holder &, std::size_t)->void, Extra=<pybind11::detail::is_new_style_constructor>]\" \n",
            "/content/diffvg/pybind11/include/pybind11/detail/init.h(176): here\n",
            "            instantiation of \"void pybind11::detail::initimpl::constructor<Args...>::execute(Class &, const Extra &...) [with Args=<std::size_t>, Class=pybind11::class_<ptr<void>>, Extra=<>, <unnamed>=0]\" \n",
            "/content/diffvg/pybind11/include/pybind11/pybind11.h(1191): here\n",
            "            instantiation of \"pybind11::class_<type_, options...> &pybind11::class_<type_, options...>::def(const pybind11::detail::initimpl::constructor<Args...> &, const Extra &...) [with type_=ptr<void>, options=<>, Args=<std::size_t>, Extra=<>]\" \n",
            "/content/diffvg/diffvg.cpp(1655): here\n",
            "\n",
            "In file included from /usr/local/cuda/include/thrust/detail/config/config.h:27:0,\n",
            "                 from /usr/local/cuda/include/thrust/detail/config.h:23,\n",
            "                 from /usr/local/cuda/include/thrust/execution_policy.h:23,\n",
            "                 from /content/diffvg/diffvg.cpp:22:\n",
            "/usr/local/cuda/include/thrust/detail/config/cpp_dialect.h:118:13: warning: Thrust requires C++14. Please pass -std=c++14 to your compiler. Define THRUST_IGNORE_DEPRECATED_CPP_DIALECT to suppress this message.\n",
            "   THRUST_COMPILER_DEPRECATION(C++14, pass -std=c++14 to your compiler);\n",
            "             ^~~~~~~~~~~~~~~~~~~~~~~~~~~~~~~~~~~~~~~~~~~~~~~~~~~~~~~~~~~                                                                            \n",
            "In file included from /usr/local/cuda/include/cub/util_arch.cuh:36:0,\n",
            "                 from /usr/local/cuda/include/thrust/system/cuda/detail/util.h:32,\n",
            "                 from /usr/local/cuda/include/thrust/system/cuda/detail/for_each.h:34,\n",
            "                 from /usr/local/cuda/include/thrust/system/detail/adl/for_each.h:42,\n",
            "                 from /usr/local/cuda/include/thrust/detail/for_each.inl:27,\n",
            "                 from /usr/local/cuda/include/thrust/for_each.h:279,\n",
            "                 from /usr/local/cuda/include/thrust/system/detail/generic/transform.inl:19,\n",
            "                 from /usr/local/cuda/include/thrust/system/detail/generic/transform.h:105,\n",
            "                 from /usr/local/cuda/include/thrust/detail/transform.inl:25,\n",
            "                 from /usr/local/cuda/include/thrust/transform.h:724,\n",
            "                 from /usr/local/cuda/include/thrust/system/detail/generic/copy.inl:23,\n",
            "                 from /usr/local/cuda/include/thrust/system/detail/generic/copy.h:58,\n",
            "                 from /usr/local/cuda/include/thrust/detail/copy.inl:21,\n",
            "                 from /usr/local/cuda/include/thrust/detail/copy.h:90,\n",
            "                 from /usr/local/cuda/include/thrust/system/detail/sequential/merge.inl:19,\n",
            "                 from /usr/local/cuda/include/thrust/system/detail/sequential/merge.h:79,\n",
            "                 from /usr/local/cuda/include/thrust/system/cpp/detail/merge.h:22,\n",
            "                 from /usr/local/cuda/include/thrust/system/cpp/execution_policy.h:51,\n",
            "                 from /usr/local/cuda/include/thrust/execution_policy.h:32,\n",
            "                 from /content/diffvg/diffvg.cpp:22:\n",
            "/usr/local/cuda/include/cub/util_cpp_dialect.cuh:129:13: warning: CUB requires C++14. Please pass -std=c++14 to your compiler. Define CUB_IGNORE_DEPRECATED_CPP_DIALECT to suppress this message.\n",
            "   CUB_COMPILER_DEPRECATION(C++14, pass -std=c++14 to your compiler);\n",
            "             ^~~~~~~~~~~~~~~~~~~~~~~~~~~~~~~~~~~~~~~~~~~~~~~~~~~~~~~~                                                                         \n",
            "[ 42%] \u001b[32mBuilding CXX object CMakeFiles/diffvg.dir/atomic.cpp.o\u001b[0m\n",
            "[ 57%] \u001b[32mBuilding CXX object CMakeFiles/diffvg.dir/parallel.cpp.o\u001b[0m\n",
            "[ 71%] \u001b[32mBuilding CXX object CMakeFiles/diffvg.dir/color.cpp.o\u001b[0m\n",
            "[ 85%] \u001b[32mBuilding CXX object CMakeFiles/diffvg.dir/shape.cpp.o\u001b[0m\n",
            "[100%] \u001b[32m\u001b[1mLinking CXX shared module ../lib.linux-x86_64-3.7/diffvg.so\u001b[0m\n",
            "[100%] Built target diffvg\n",
            "creating build/bdist.linux-x86_64\n",
            "creating build/bdist.linux-x86_64/egg\n",
            "copying build/lib.linux-x86_64-3.7/diffvg.so -> build/bdist.linux-x86_64/egg\n",
            "creating build/bdist.linux-x86_64/egg/pydiffvg\n",
            "copying build/lib.linux-x86_64-3.7/pydiffvg/pixel_filter.py -> build/bdist.linux-x86_64/egg/pydiffvg\n",
            "copying build/lib.linux-x86_64-3.7/pydiffvg/parse_svg.py -> build/bdist.linux-x86_64/egg/pydiffvg\n",
            "copying build/lib.linux-x86_64-3.7/pydiffvg/optimize_svg.py -> build/bdist.linux-x86_64/egg/pydiffvg\n",
            "copying build/lib.linux-x86_64-3.7/pydiffvg/device.py -> build/bdist.linux-x86_64/egg/pydiffvg\n",
            "copying build/lib.linux-x86_64-3.7/pydiffvg/color.py -> build/bdist.linux-x86_64/egg/pydiffvg\n",
            "copying build/lib.linux-x86_64-3.7/pydiffvg/save_svg.py -> build/bdist.linux-x86_64/egg/pydiffvg\n",
            "copying build/lib.linux-x86_64-3.7/pydiffvg/render_pytorch.py -> build/bdist.linux-x86_64/egg/pydiffvg\n",
            "copying build/lib.linux-x86_64-3.7/pydiffvg/shape.py -> build/bdist.linux-x86_64/egg/pydiffvg\n",
            "copying build/lib.linux-x86_64-3.7/pydiffvg/image.py -> build/bdist.linux-x86_64/egg/pydiffvg\n",
            "copying build/lib.linux-x86_64-3.7/pydiffvg/__init__.py -> build/bdist.linux-x86_64/egg/pydiffvg\n",
            "creating build/bdist.linux-x86_64/egg/pydiffvg_tensorflow\n",
            "copying build/lib.linux-x86_64-3.7/pydiffvg_tensorflow/pixel_filter.py -> build/bdist.linux-x86_64/egg/pydiffvg_tensorflow\n",
            "copying build/lib.linux-x86_64-3.7/pydiffvg_tensorflow/render_tensorflow.py -> build/bdist.linux-x86_64/egg/pydiffvg_tensorflow\n",
            "copying build/lib.linux-x86_64-3.7/pydiffvg_tensorflow/device.py -> build/bdist.linux-x86_64/egg/pydiffvg_tensorflow\n",
            "copying build/lib.linux-x86_64-3.7/pydiffvg_tensorflow/color.py -> build/bdist.linux-x86_64/egg/pydiffvg_tensorflow\n",
            "copying build/lib.linux-x86_64-3.7/pydiffvg_tensorflow/shape.py -> build/bdist.linux-x86_64/egg/pydiffvg_tensorflow\n",
            "copying build/lib.linux-x86_64-3.7/pydiffvg_tensorflow/image.py -> build/bdist.linux-x86_64/egg/pydiffvg_tensorflow\n",
            "copying build/lib.linux-x86_64-3.7/pydiffvg_tensorflow/__init__.py -> build/bdist.linux-x86_64/egg/pydiffvg_tensorflow\n",
            "byte-compiling build/bdist.linux-x86_64/egg/pydiffvg/pixel_filter.py to pixel_filter.cpython-37.pyc\n",
            "byte-compiling build/bdist.linux-x86_64/egg/pydiffvg/parse_svg.py to parse_svg.cpython-37.pyc\n",
            "byte-compiling build/bdist.linux-x86_64/egg/pydiffvg/optimize_svg.py to optimize_svg.cpython-37.pyc\n",
            "byte-compiling build/bdist.linux-x86_64/egg/pydiffvg/device.py to device.cpython-37.pyc\n",
            "byte-compiling build/bdist.linux-x86_64/egg/pydiffvg/color.py to color.cpython-37.pyc\n",
            "byte-compiling build/bdist.linux-x86_64/egg/pydiffvg/save_svg.py to save_svg.cpython-37.pyc\n",
            "byte-compiling build/bdist.linux-x86_64/egg/pydiffvg/render_pytorch.py to render_pytorch.cpython-37.pyc\n",
            "byte-compiling build/bdist.linux-x86_64/egg/pydiffvg/shape.py to shape.cpython-37.pyc\n",
            "byte-compiling build/bdist.linux-x86_64/egg/pydiffvg/image.py to image.cpython-37.pyc\n",
            "byte-compiling build/bdist.linux-x86_64/egg/pydiffvg/__init__.py to __init__.cpython-37.pyc\n",
            "byte-compiling build/bdist.linux-x86_64/egg/pydiffvg_tensorflow/pixel_filter.py to pixel_filter.cpython-37.pyc\n",
            "byte-compiling build/bdist.linux-x86_64/egg/pydiffvg_tensorflow/render_tensorflow.py to render_tensorflow.cpython-37.pyc\n",
            "byte-compiling build/bdist.linux-x86_64/egg/pydiffvg_tensorflow/device.py to device.cpython-37.pyc\n",
            "byte-compiling build/bdist.linux-x86_64/egg/pydiffvg_tensorflow/color.py to color.cpython-37.pyc\n",
            "byte-compiling build/bdist.linux-x86_64/egg/pydiffvg_tensorflow/shape.py to shape.cpython-37.pyc\n",
            "byte-compiling build/bdist.linux-x86_64/egg/pydiffvg_tensorflow/image.py to image.cpython-37.pyc\n",
            "byte-compiling build/bdist.linux-x86_64/egg/pydiffvg_tensorflow/__init__.py to __init__.cpython-37.pyc\n",
            "creating build/bdist.linux-x86_64/egg/EGG-INFO\n",
            "copying diffvg.egg-info/PKG-INFO -> build/bdist.linux-x86_64/egg/EGG-INFO\n",
            "copying diffvg.egg-info/SOURCES.txt -> build/bdist.linux-x86_64/egg/EGG-INFO\n",
            "copying diffvg.egg-info/dependency_links.txt -> build/bdist.linux-x86_64/egg/EGG-INFO\n",
            "copying diffvg.egg-info/not-zip-safe -> build/bdist.linux-x86_64/egg/EGG-INFO\n",
            "copying diffvg.egg-info/requires.txt -> build/bdist.linux-x86_64/egg/EGG-INFO\n",
            "copying diffvg.egg-info/top_level.txt -> build/bdist.linux-x86_64/egg/EGG-INFO\n",
            "writing build/bdist.linux-x86_64/egg/EGG-INFO/native_libs.txt\n",
            "creating dist\n",
            "creating 'dist/diffvg-0.0.1-py3.7-linux-x86_64.egg' and adding 'build/bdist.linux-x86_64/egg' to it\n",
            "removing 'build/bdist.linux-x86_64/egg' (and everything under it)\n",
            "Processing diffvg-0.0.1-py3.7-linux-x86_64.egg\n",
            "creating /usr/local/lib/python3.7/dist-packages/diffvg-0.0.1-py3.7-linux-x86_64.egg\n",
            "Extracting diffvg-0.0.1-py3.7-linux-x86_64.egg to /usr/local/lib/python3.7/dist-packages\n",
            "Adding diffvg 0.0.1 to easy-install.pth file\n",
            "\n",
            "Installed /usr/local/lib/python3.7/dist-packages/diffvg-0.0.1-py3.7-linux-x86_64.egg\n",
            "Processing dependencies for diffvg==0.0.1\n",
            "Searching for svgpathtools==1.5.1\n",
            "Best match: svgpathtools 1.5.1\n",
            "Adding svgpathtools 1.5.1 to easy-install.pth file\n",
            "\n",
            "Using /usr/local/lib/python3.7/dist-packages\n",
            "Searching for scipy==1.7.3\n",
            "Best match: scipy 1.7.3\n",
            "Adding scipy 1.7.3 to easy-install.pth file\n",
            "\n",
            "Using /usr/local/lib/python3.7/dist-packages\n",
            "Searching for svgwrite==1.4.3\n",
            "Best match: svgwrite 1.4.3\n",
            "Adding svgwrite 1.4.3 to easy-install.pth file\n",
            "\n",
            "Using /usr/local/lib/python3.7/dist-packages\n",
            "Searching for numpy==1.21.6\n",
            "Best match: numpy 1.21.6\n",
            "Adding numpy 1.21.6 to easy-install.pth file\n",
            "Installing f2py script to /usr/local/bin\n",
            "Installing f2py3 script to /usr/local/bin\n",
            "Installing f2py3.7 script to /usr/local/bin\n",
            "\n",
            "Using /usr/local/lib/python3.7/dist-packages\n",
            "Finished processing dependencies for diffvg==0.0.1\n",
            "Looking in indexes: https://pypi.org/simple, https://us-python.pkg.dev/colab-wheels/public/simple/\n",
            "Collecting ftfy\n",
            "  Downloading ftfy-6.1.1-py3-none-any.whl (53 kB)\n",
            "\u001b[K     |████████████████████████████████| 53 kB 2.0 MB/s \n",
            "\u001b[?25hRequirement already satisfied: regex in /usr/local/lib/python3.7/dist-packages (2022.6.2)\n",
            "Requirement already satisfied: tqdm in /usr/local/lib/python3.7/dist-packages (4.64.1)\n",
            "Requirement already satisfied: wcwidth>=0.2.5 in /usr/local/lib/python3.7/dist-packages (from ftfy) (0.2.5)\n",
            "Installing collected packages: ftfy\n",
            "Successfully installed ftfy-6.1.1\n",
            "Looking in indexes: https://pypi.org/simple, https://us-python.pkg.dev/colab-wheels/public/simple/\n",
            "Collecting git+https://github.com/openai/CLIP.git\n",
            "  Cloning https://github.com/openai/CLIP.git to /tmp/pip-req-build-yat8gf5d\n",
            "  Running command git clone -q https://github.com/openai/CLIP.git /tmp/pip-req-build-yat8gf5d\n",
            "Building wheels for collected packages: clip\n",
            "  Building wheel for clip (setup.py) ... \u001b[?25l\u001b[?25hdone\n",
            "  Created wheel for clip: filename=clip-1.0-py3-none-any.whl size=1369409 sha256=578922a52f0405a9de7f69ea4d1655fcf258a1e969a4a7549bad6d81b702b5f4\n",
            "  Stored in directory: /tmp/pip-ephem-wheel-cache-85cxldue/wheels/fd/b9/c3/5b4470e35ed76e174bff77c92f91da82098d5e35fd5bc8cdac\n",
            "Successfully built clip\n",
            "Installing collected packages: clip\n",
            "Successfully installed clip-1.0\n"
          ]
        }
      ],
      "source": [
        "#@title 0. Pre Installation {vertical-output: true}\n",
        "\n",
        "import subprocess\n",
        "\n",
        "CUDA_version = [s for s in subprocess.check_output([\"nvcc\", \"--version\"]).decode(\"UTF-8\").split(\", \") if s.startswith(\"release\")][0].split(\" \")[-1]\n",
        "print(\"CUDA version:\", CUDA_version)\n",
        "\n",
        "if CUDA_version == \"10.0\":\n",
        "    torch_version_suffix = \"+cu100\"\n",
        "elif CUDA_version == \"10.1\":\n",
        "    torch_version_suffix = \"+cu101\"\n",
        "elif CUDA_version == \"10.2\":\n",
        "    torch_version_suffix = \"\"\n",
        "else:\n",
        "    torch_version_suffix = \"+cu110\"\n",
        "\n",
        "# !pip install torch==1.7.1{torch_version_suffix} torchvision==0.8.2{torch_version_suffix} -f https://download.pytorch.org/whl/torch_stable.html ftfy regex\n",
        "%cd /content/\n",
        "!pip install svgwrite\n",
        "!pip install svgpathtools\n",
        "!pip install cssutils\n",
        "!pip install numba\n",
        "!pip install torch-tools\n",
        "!pip install visdom\n",
        "\n",
        "!git clone https://github.com/BachiLi/diffvg\n",
        "%cd diffvg\n",
        "# !ls\n",
        "!git submodule update --init --recursive\n",
        "\n",
        "data = []\n",
        "with open(\"/content/diffvg/CMakeLists.txt\", \"r+\") as inFile:\n",
        "    for line in inFile:\n",
        "        if \"find_package(TensorFlow)\" in line:\n",
        "            pass\n",
        "        else:\n",
        "            data.append(line)\n",
        "    inFile.seek(0)\n",
        "    for d in data:\n",
        "        inFile.write(d)\n",
        "    inFile.truncate()\n",
        "!python setup.py install\n",
        "\n",
        "!pip install ftfy regex tqdm\n",
        "!pip install git+https://github.com/openai/CLIP.git --no-deps"
      ]
    },
    {
      "cell_type": "code",
      "execution_count": null,
      "metadata": {
        "colab": {
          "base_uri": "https://localhost:8080/"
        },
        "id": "hjt9T3ARukAg",
        "outputId": "a9c7e134-0949-4eca-92b4-46234e40b789"
      },
      "outputs": [
        {
          "output_type": "stream",
          "name": "stdout",
          "text": [
            "Colab only includes TensorFlow 2.x; %tensorflow_version has no effect.\n",
            "PyTorch Version:  1.12.1+cu113\n",
            "Torchvision Version:  0.13.1+cu113\n",
            "Looking in indexes: https://pypi.org/simple, https://us-python.pkg.dev/colab-wheels/public/simple/\n",
            "Collecting torchmetrics[image]\n",
            "  Downloading torchmetrics-0.10.2-py3-none-any.whl (529 kB)\n",
            "\u001b[K     |████████████████████████████████| 529 kB 14.5 MB/s \n",
            "\u001b[?25hRequirement already satisfied: numpy>=1.17.2 in /usr/local/lib/python3.7/dist-packages (from torchmetrics[image]) (1.21.6)\n",
            "Requirement already satisfied: typing-extensions in /usr/local/lib/python3.7/dist-packages (from torchmetrics[image]) (4.1.1)\n",
            "Requirement already satisfied: torch>=1.3.1 in /usr/local/lib/python3.7/dist-packages (from torchmetrics[image]) (1.12.1+cu113)\n",
            "Requirement already satisfied: packaging in /usr/local/lib/python3.7/dist-packages (from torchmetrics[image]) (21.3)\n",
            "Requirement already satisfied: torchvision in /usr/local/lib/python3.7/dist-packages (from torchmetrics[image]) (0.13.1+cu113)\n",
            "Collecting lpips\n",
            "  Downloading lpips-0.1.4-py3-none-any.whl (53 kB)\n",
            "\u001b[K     |████████████████████████████████| 53 kB 2.5 MB/s \n",
            "\u001b[?25hRequirement already satisfied: scipy in /usr/local/lib/python3.7/dist-packages (from torchmetrics[image]) (1.7.3)\n",
            "Collecting torch-fidelity\n",
            "  Downloading torch_fidelity-0.3.0-py3-none-any.whl (37 kB)\n",
            "Requirement already satisfied: tqdm>=4.28.1 in /usr/local/lib/python3.7/dist-packages (from lpips->torchmetrics[image]) (4.64.1)\n",
            "Requirement already satisfied: requests in /usr/local/lib/python3.7/dist-packages (from torchvision->torchmetrics[image]) (2.23.0)\n",
            "Requirement already satisfied: pillow!=8.3.*,>=5.3.0 in /usr/local/lib/python3.7/dist-packages (from torchvision->torchmetrics[image]) (7.1.2)\n",
            "Requirement already satisfied: pyparsing!=3.0.5,>=2.0.2 in /usr/local/lib/python3.7/dist-packages (from packaging->torchmetrics[image]) (3.0.9)\n",
            "Requirement already satisfied: certifi>=2017.4.17 in /usr/local/lib/python3.7/dist-packages (from requests->torchvision->torchmetrics[image]) (2022.9.24)\n",
            "Requirement already satisfied: chardet<4,>=3.0.2 in /usr/local/lib/python3.7/dist-packages (from requests->torchvision->torchmetrics[image]) (3.0.4)\n",
            "Requirement already satisfied: idna<3,>=2.5 in /usr/local/lib/python3.7/dist-packages (from requests->torchvision->torchmetrics[image]) (2.10)\n",
            "Requirement already satisfied: urllib3!=1.25.0,!=1.25.1,<1.26,>=1.21.1 in /usr/local/lib/python3.7/dist-packages (from requests->torchvision->torchmetrics[image]) (1.24.3)\n",
            "Installing collected packages: torchmetrics, torch-fidelity, lpips\n",
            "Successfully installed lpips-0.1.4 torch-fidelity-0.3.0 torchmetrics-0.10.2\n",
            "Looking in indexes: https://pypi.org/simple, https://us-python.pkg.dev/colab-wheels/public/simple/\n",
            "Requirement already satisfied: lpips in /usr/local/lib/python3.7/dist-packages (0.1.4)\n",
            "Requirement already satisfied: scipy>=1.0.1 in /usr/local/lib/python3.7/dist-packages (from lpips) (1.7.3)\n",
            "Requirement already satisfied: tqdm>=4.28.1 in /usr/local/lib/python3.7/dist-packages (from lpips) (4.64.1)\n",
            "Requirement already satisfied: numpy>=1.14.3 in /usr/local/lib/python3.7/dist-packages (from lpips) (1.21.6)\n",
            "Requirement already satisfied: torch>=0.4.0 in /usr/local/lib/python3.7/dist-packages (from lpips) (1.12.1+cu113)\n",
            "Requirement already satisfied: torchvision>=0.2.1 in /usr/local/lib/python3.7/dist-packages (from lpips) (0.13.1+cu113)\n",
            "Requirement already satisfied: typing-extensions in /usr/local/lib/python3.7/dist-packages (from torch>=0.4.0->lpips) (4.1.1)\n",
            "Requirement already satisfied: requests in /usr/local/lib/python3.7/dist-packages (from torchvision>=0.2.1->lpips) (2.23.0)\n",
            "Requirement already satisfied: pillow!=8.3.*,>=5.3.0 in /usr/local/lib/python3.7/dist-packages (from torchvision>=0.2.1->lpips) (7.1.2)\n",
            "Requirement already satisfied: urllib3!=1.25.0,!=1.25.1,<1.26,>=1.21.1 in /usr/local/lib/python3.7/dist-packages (from requests->torchvision>=0.2.1->lpips) (1.24.3)\n",
            "Requirement already satisfied: chardet<4,>=3.0.2 in /usr/local/lib/python3.7/dist-packages (from requests->torchvision>=0.2.1->lpips) (3.0.4)\n",
            "Requirement already satisfied: idna<3,>=2.5 in /usr/local/lib/python3.7/dist-packages (from requests->torchvision>=0.2.1->lpips) (2.10)\n",
            "Requirement already satisfied: certifi>=2017.4.17 in /usr/local/lib/python3.7/dist-packages (from requests->torchvision>=0.2.1->lpips) (2022.9.24)\n",
            "GPU 0: Tesla T4 (UUID: GPU-8ffadcc4-5a70-f60a-facc-d052686d9b96)\n",
            "Torch version: 1.12.1+cu113\n"
          ]
        }
      ],
      "source": [
        "#@title 1. Imports and Notebook Utilities {vertical-output: true}\n",
        "from __future__ import print_function\n",
        "from __future__ import division\n",
        "\n",
        "%tensorflow_version 2.x\n",
        "\n",
        "import os\n",
        "import io\n",
        "import PIL.Image, PIL.ImageDraw\n",
        "import base64\n",
        "import zipfile\n",
        "import json\n",
        "import requests\n",
        "import numpy as np\n",
        "import matplotlib.pylab as pl\n",
        "import glob\n",
        "\n",
        "from IPython.display import Image, HTML, clear_output\n",
        "from tqdm import tqdm_notebook, tnrange\n",
        "\n",
        "os.environ['FFMPEG_BINARY'] = 'ffmpeg'\n",
        "import moviepy.editor as mvp\n",
        "from moviepy.video.io.ffmpeg_writer import FFMPEG_VideoWriter\n",
        "\n",
        "#######\n",
        "\n",
        "import torch\n",
        "import torch.nn as nn\n",
        "import torch.optim as optim\n",
        "import numpy as np\n",
        "import torchvision\n",
        "from torchvision import datasets, models, transforms\n",
        "import matplotlib.pyplot as plt\n",
        "import time\n",
        "import os\n",
        "import copy\n",
        "print(\"PyTorch Version: \",torch.__version__)\n",
        "print(\"Torchvision Version: \",torchvision.__version__)\n",
        "\n",
        "from google.colab import files\n",
        "\n",
        "import pydiffvg\n",
        "import diffvg\n",
        "\n",
        "from ipywidgets import interact, interactive, fixed, interact_manual\n",
        "import ipywidgets as widgets\n",
        "import matplotlib.pyplot as plt\n",
        "\n",
        "from skimage import exposure\n",
        "import torch\n",
        "\n",
        "import os\n",
        "import io\n",
        "import PIL.Image, PIL.ImageDraw\n",
        "import base64\n",
        "import zipfile\n",
        "import json\n",
        "import requests\n",
        "import numpy as np\n",
        "import matplotlib.pylab as pl\n",
        "import glob\n",
        "\n",
        "from IPython.display import Image, HTML, clear_output\n",
        "from tqdm import tqdm_notebook, tnrange\n",
        "\n",
        "import numpy as np\n",
        "import torch\n",
        "import os\n",
        "\n",
        "import pydiffvg\n",
        "import torch\n",
        "import skimage\n",
        "import skimage.io\n",
        "import random\n",
        "import ttools.modules\n",
        "import argparse\n",
        "import math\n",
        "import torchvision\n",
        "import torchvision.transforms as transforms\n",
        "\n",
        "import os\n",
        "import pandas as pd\n",
        "from torchvision.io import read_image\n",
        "import torch\n",
        "from torch.utils.data import Dataset\n",
        "from torchvision import datasets\n",
        "from torchvision.transforms import ToTensor\n",
        "import matplotlib.pyplot as plt\n",
        "from torch.utils.data import DataLoader\n",
        "from torch import nn\n",
        "\n",
        "import torchvision.transforms as T\n",
        "\n",
        "from torchvision.io import read_image\n",
        "from torchvision.models import resnet50, ResNet50_Weights\n",
        "\n",
        "pydiffvg.set_use_gpu(torch.cuda.is_available())\n",
        "\n",
        "!pip install torchmetrics[image]\n",
        "!pip install lpips\n",
        "\n",
        "import torchmetrics\n",
        "import lpips\n",
        "\n",
        "from torchmetrics.image.lpip import LearnedPerceptualImagePatchSimilarity\n",
        "\n",
        "from torchmetrics.functional import structural_similarity_index_measure, multiscale_structural_similarity_index_measure, peak_signal_noise_ratio,universal_image_quality_index\n",
        "#######\n",
        "\n",
        "model_ft = None\n",
        "\n",
        "def imread(url, max_size=None, mode=None):\n",
        "  if url.startswith(('http:', 'https:')):\n",
        "    r = requests.get(url)\n",
        "    f = io.BytesIO(r.content)\n",
        "  else:\n",
        "    f = url\n",
        "  img = PIL.Image.open(f)\n",
        "  if max_size is not None:\n",
        "    img = img.resize((max_size, max_size))\n",
        "  if mode is not None:\n",
        "    img = img.convert(mode)\n",
        "  img = np.float32(img)/255.0\n",
        "  return img\n",
        "\n",
        "def np2pil(a):\n",
        "  if a.dtype in [np.float32, np.float64]:\n",
        "    a = np.uint8(np.clip(a, 0, 1)*255)\n",
        "  return PIL.Image.fromarray(a)\n",
        "\n",
        "def imwrite(f, a, fmt=None):\n",
        "  a = np.asarray(a)\n",
        "  if isinstance(f, str):\n",
        "    fmt = f.rsplit('.', 1)[-1].lower()\n",
        "    if fmt == 'jpg':\n",
        "      fmt = 'jpeg'\n",
        "    f = open(f, 'wb')\n",
        "  np2pil(a).save(f, fmt, quality=95)\n",
        "\n",
        "def imencode(a, fmt='jpeg'):\n",
        "  a = np.asarray(a)\n",
        "  if len(a.shape) == 3 and a.shape[-1] == 4:\n",
        "    fmt = 'png'\n",
        "  f = io.BytesIO()\n",
        "  imwrite(f, a, fmt)\n",
        "  return f.getvalue()\n",
        "\n",
        "def im2url(a, fmt='jpeg'):\n",
        "  encoded = imencode(a, fmt)\n",
        "  base64_byte_string = base64.b64encode(encoded).decode('ascii')\n",
        "  return 'data:image/' + fmt.upper() + ';base64,' + base64_byte_string\n",
        "\n",
        "def imshow(a, fmt='jpeg'):\n",
        "  display(Image(data=imencode(a, fmt)))\n",
        "\n",
        "\n",
        "def tile2d(a, w=None):\n",
        "  a = np.asarray(a)\n",
        "  if w is None:\n",
        "    w = int(np.ceil(np.sqrt(len(a))))\n",
        "  th, tw = a.shape[1:3]\n",
        "  pad = (w-len(a))%w\n",
        "  a = np.pad(a, [(0, pad)]+[(0, 0)]*(a.ndim-1), 'constant')\n",
        "  h = len(a)//w\n",
        "  a = a.reshape([h, w]+list(a.shape[1:]))\n",
        "  a = np.rollaxis(a, 2, 1).reshape([th*h, tw*w]+list(a.shape[4:]))\n",
        "  return a\n",
        "\n",
        "from torchvision import utils\n",
        "def show_img(img, size = (7,7)):\n",
        "    img = np.transpose(img, (1, 2, 0))\n",
        "    img = np.clip(img, 0, 1)\n",
        "    img = np.uint8(img * 254)\n",
        "    # img = np.repeat(img, 4, axis=0)\n",
        "    # img = np.repeat(img, 4, axis=1)\n",
        "    pimg = PIL.Image.fromarray(img, mode=\"RGB\")\n",
        "    imshow(pimg)\n",
        "\n",
        "def zoom(img, scale=4):\n",
        "  img = np.repeat(img, scale, 0)\n",
        "  img = np.repeat(img, scale, 1)\n",
        "  return img\n",
        "\n",
        "class VideoWriter:\n",
        "  def __init__(self, filename='_autoplay.mp4', fps=30.0, **kw):\n",
        "    self.writer = None\n",
        "    self.params = dict(filename=filename, fps=fps, **kw)\n",
        "\n",
        "  def add(self, img):\n",
        "    img = np.asarray(img)\n",
        "    if self.writer is None:\n",
        "      h, w = img.shape[:2]\n",
        "      self.writer = FFMPEG_VideoWriter(size=(w, h), **self.params)\n",
        "    if img.dtype in [np.float32, np.float64]:\n",
        "      img = np.uint8(img.clip(0, 1)*255)\n",
        "    if len(img.shape) == 2:\n",
        "      img = np.repeat(img[..., None], 3, -1)\n",
        "    self.writer.write_frame(img)\n",
        "\n",
        "  def close(self):\n",
        "    if self.writer:\n",
        "      self.writer.close()\n",
        "\n",
        "  def __enter__(self):\n",
        "    return self\n",
        "\n",
        "  def __exit__(self, *kw):\n",
        "    self.close()\n",
        "    if self.params['filename'] == '_autoplay.mp4':\n",
        "      self.show()\n",
        "\n",
        "  def show(self, **kw):\n",
        "      self.close()\n",
        "      fn = self.params['filename']\n",
        "      display(mvp.ipython_display(fn, **kw))\n",
        "\n",
        "!nvidia-smi -L\n",
        "\n",
        "import numpy as np\n",
        "import torch\n",
        "import os\n",
        "\n",
        "# torch.set_default_tensor_type('torch.cuda.FloatTensor')\n",
        "\n",
        "print(\"Torch version:\", torch.__version__)\n",
        "\n",
        "# !pip install DALL-E"
      ]
    },
    {
      "cell_type": "code",
      "execution_count": null,
      "metadata": {
        "colab": {
          "base_uri": "https://localhost:8080/"
        },
        "id": "Z-Wt7UjTi8Le",
        "outputId": "e9610540-8640-49ef-c290-1935e550b6ce"
      },
      "outputs": [
        {
          "output_type": "stream",
          "name": "stderr",
          "text": [
            "100%|████████████████████████████████████████| 338M/338M [00:01<00:00, 198MiB/s]\n"
          ]
        },
        {
          "output_type": "stream",
          "name": "stdout",
          "text": [
            "torch.Size([2343, 512]) torch.float16\n"
          ]
        }
      ],
      "source": [
        "#@title 2. Load CLIP for text visualization {vertical-output: true}\n",
        "#@markdown For joint optimization of reference text and images\n",
        "# os.environ['CUDA_LAUNCH_BLOCKING'] = '1'\n",
        "\n",
        "import os\n",
        "import clip\n",
        "import torch\n",
        "import torch.nn.functional as F\n",
        "import torchvision\n",
        "from torchvision import transforms\n",
        "from torchvision.datasets import CIFAR100\n",
        "\n",
        "# Load the model\n",
        "device = torch.device('cuda')\n",
        "model, preprocess = clip.load('ViT-B/32', device, jit=False)\n",
        "\n",
        "nouns = \"aardvark abyssinian accelerator accordion account accountant acknowledgment acoustic acrylic act action active activity actor actress adapter addition address adjustment adult advantage advertisement advice afghanistan africa aftermath afternoon aftershave afterthought age agenda agreement air airbus airmail airplane airport airship alarm albatross alcohol algebra algeria alibi alley alligator alloy almanac alphabet alto aluminium aluminum ambulance america amount amusement anatomy anethesiologist anger angle angora animal anime ankle answer ant antarctica anteater antelope anthony anthropology apartment apology apparatus apparel appeal appendix apple appliance approval april aquarius arch archaeology archeology archer architecture area argentina argument aries arithmetic arm armadillo armchair armenian army arrow art ash ashtray asia asparagus asphalt asterisk astronomy athlete atm atom attack attempt attention attic attraction august aunt australia australian author authorisation authority authorization avenue babies baboon baby back backbone bacon badge badger bag bagel bagpipe bail bait baker bakery balance balinese ball balloon bamboo banana band bandana bangladesh bangle banjo bank bankbook banker bar barbara barber barge baritone barometer base baseball basement basin basket basketball bass bassoon bat bath bathroom bathtub battery battle bay beach bead beam bean bear beard beast beat beautician beauty beaver bed bedroom bee beech beef beer beet beetle beggar beginner begonia behavior belgian belief believe bell belt bench bengal beret berry bestseller betty bibliography bicycle bike bill billboard biology biplane birch bird birth birthday bit bite black bladder blade blanket blinker blizzard block blood blouse blow blowgun blue board boat bobcat body bolt bomb bomber bone bongo bonsai book bookcase booklet boot border botany bottle bottom boundary bow bowl bowling box boy bra brace bracket brain brake branch brand brandy brass brazil bread break breakfast breath brian brick bridge british broccoli brochure broker bronze brother brother-in-law brow brown brush bubble bucket budget buffer buffet bugle building bulb bull bulldozer bumper bun burglar burma burn burst bus bush business butane butcher butter button buzzard cabbage cabinet cable cactus cafe cake calculator calculus calendar calf call camel camera camp can canada canadian cancer candle cannon canoe canvas cap capital cappelletti capricorn captain caption car caravan carbon card cardboard cardigan care carnation carol carp carpenter carriage carrot cart cartoon case cast castanet cat catamaran caterpillar cathedral catsup cattle cauliflower cause caution cave c-clamp cd ceiling celery celeste cell cellar cello celsius cement cemetery cent centimeter century ceramic cereal certification chain chair chalk chance change channel character chard charles chauffeur check cheek cheese cheetah chef chemistry cheque cherries cherry chess chest chick chicken chicory chief child children chill chime chimpanzee chin china chinese chive chocolate chord christmas christopher chronometer church cicada cinema circle circulation cirrus citizenship city clam clarinet class claus clave clef clerk click client climb clipper cloakroom clock close closet cloth cloud cloudy clover club clutch coach coal coast coat cobweb cockroach cocktail cocoa cod coffee coil coin coke cold collar college collision colombia colon colony color colt column columnist comb comfort comic comma command commission committee community company comparison competition competitor composer composition computer condition condor cone confirmation conga congo conifer connection consonant continent control cook cooking copper copy copyright cord cork cormorant corn cornet correspondent cost cotton couch cougar cough country course court cousin cover cow cowbell crab crack cracker craftsman crate crawdad crayfish crayon cream creator creature credit creditor creek crib cricket crime criminal crocodile crocus croissant crook crop cross crow crowd crown crush cry cub cuban cucumber cultivator cup cupboard cupcake curler currency current curtain curve cushion custard customer cut cuticle cycle cyclone cylinder cymbal dad daffodil dahlia daisy damage dance dancer danger daniel dash dashboard database date daughter david day dead deadline deal death deborah debt debtor decade december decimal decision decrease dedication deer defense deficit degree delete delivery den denim dentist deodorant department deposit description desert design desire desk dessert destruction detail detective development dew diamond diaphragm dibble dictionary dietician difference digestion digger digital dill dime dimple dinghy dinner dinosaur diploma dipstick direction dirt disadvantage discovery discussion disease disgust dish distance distribution distributor diving division divorced dock doctor dog dogsled doll dollar dolphin domain donald donkey donna door dorothy double doubt downtown dragon dragonfly drain drake drama draw drawbridge drawer dream dredger dress dresser dressing drill drink drive driver driving drizzle drop drug drum dry dryer duck duckling dugout dungeon dust eagle ear earth earthquake ease east edge edger editor editorial education edward eel effect egg eggnog eggplant egypt eight elbow element elephant elizabeth ellipse emery employee employer encyclopedia end enemy energy engine engineer engineering english enquiry entrance environment epoch epoxy equinox equipment era error estimate ethernet ethiopia euphonium europe evening event examination example exchange exclamation exhaust ex-husband existence expansion experience expert explanation ex-wife eye eyebrow eyelash eyeliner face facilities fact factory fahrenheit fairies fall family fan fang farm farmer fat father father-in-law faucet fear feast feather feature february fedelini feedback feeling feet felony female fender ferry ferryboat fertilizer fiber fiberglass fibre fiction field fifth fight fighter file find fine finger fir fire fired fireman fireplace firewall fish fisherman flag flame flare flat flavor flax flesh flight flock flood floor flower flugelhorn flute fly foam fog fold font food foot football footnote force forecast forehead forest forgery fork form format fortnight foundation fountain fowl fox foxglove fragrance frame france freckle freeze freezer freighter french freon friction friday fridge friend frog front frost frown fruit fuel fur furniture galley gallon game gander garage garden garlic gas gasoline gate gateway gauge gazelle gear gearshift geese gemini gender geography geology geometry george geranium german germany ghana ghost giant giraffe girdle girl gladiolus glass glider gliding glockenspiel glove glue goal goat gold goldfish golf gondola gong good-bye goose gore-tex gorilla gosling government governor grade grain gram granddaughter grandfather grandmother grandson grape graphic grass grasshopper gray grease great-grandfather great-grandmother greece greek green grenade grey grill grip ground group grouse growth guarantee guatemalan guide guilty guitar gum gun gym gymnast hacksaw hail hair haircut half-brother half-sister halibut hall hallway hamburger hammer hamster hand handball handicap handle handsaw harbor hardboard hardcover hardhat hardware harmonica harmony harp hat hate hawk head headlight headline health hearing heart heat heaven hedge height helen helicopter helium hell helmet help hemp hen heron herring hexagon hill himalayan hip hippopotamus history hobbies hockey hoe hole holiday home honey hood hook hope horn horse hose hospital hot hour hourglass house hovercraft hub hubcap humidity humor hurricane hyacinth hydrant hydrofoil hydrogen hyena hygienic ice icebreaker icicle icon idea ikebana illegal imprisonment improvement impulse inch income increase index india indonesia industry ink innocent input insect instruction instrument insulation insurance interactive interest internet interviewer intestine invention inventory invoice iran iraq iris iron island israel italian italy jacket jaguar jail jam james january japan japanese jar jasmine jason jaw jeans jeep jeff jelly jellyfish jennifer jet jewel jogging john join joke joseph journey judge judo juice july jumbo jump jumper june jury justice jute kale kamikaze kangaroo karate karen kayak kendo kenneth kenya ketchup kettle kettledrum kevin key keyboard keyboarding kick kidney kilogram kilometer kimberly kiss kitchen kite kitten kitty knee knickers knife knight knot knowledge kohlrabi korean laborer lace ladybug lake lamb lamp lan land landmine language larch lasagna latency latex lathe laugh laundry laura law lawyer layer lead leaf learning leather leek leg legal lemonade lentil leo leopard letter lettuce level libra library license lier lift light lightning lilac lily limit linda line linen link lion lip lipstick liquid liquor lisa list literature litter liver lizard llama loaf loan lobster lock locket locust look loss lotion love low lumber lunch lunchroom lung lunge lute luttuce lycra lynx lyocell lyre lyric macaroni machine macrame magazine magic magician maid mail mailbox mailman makeup malaysia male mall mallet man manager mandolin manicure manx map maple maraca marble march margaret margin maria marimba mark mark market married mary mascara mask mass match math mattock may mayonnaise meal measure meat mechanic medicine meeting melody memory men menu mercury message metal meteorology meter methane mexican mexico mice michael michelle microwave middle mile milk milkshake millennium millimeter millisecond mimosa mind mine minibus mini-skirt minister mint minute mirror missile mist mistake mitten moat modem mole mom monday money monkey month moon morning morocco mosque mosquito mother mother-in-law motion motorboat motorcycle mountain mouse moustache mouth move multi-hop multimedia muscle museum music musician mustard myanmar nail name nancy napkin narcissus nation neck need needle neon nepal nephew nerve nest net network news newsprint newsstand nic nickel niece nigeria night nitrogen node noise noodle north north america north korea norwegian nose note notebook notify novel november number numeric nurse nut nylon oak oatmeal objective oboe observation occupation ocean ocelot octagon octave october octopus odometer offence offer office oil okra olive onion open opera operation ophthalmologist opinion option orange orchestra orchid order organ organisation organization ornament ostrich otter ounce output outrigger oval oven overcoat owl owner ox oxygen oyster package packet page pail pain paint pair pajama pakistan palm pamphlet pan pancake pancreas panda pansy panther panties pantry pants panty pantyhose paper paperback parade parallelogram parcel parent parentheses park parrot parsnip part particle partner partridge party passbook passenger passive pasta paste pastor pastry patch path patient patio patricia paul payment pea peace peak peanut pear pedestrian pediatrician peen peer-to-peer pelican pen penalty pencil pendulum pentagon peony pepper perch perfume period periodical peripheral permission persian person peru pest pet pharmacist pheasant philippines philosophy phone physician piano piccolo pickle picture pie pig pigeon pike pillow pilot pimple pin pine ping pink pint pipe pisces pizza place plain plane planet plant plantation plaster plasterboard plastic plate platinum play playground playroom pleasure plier plot plough plow plywood pocket poet point poison poland police policeman polish politician pollution polo polyester pond popcorn poppy population porch porcupine port porter position possibility postage postbox pot potato poultry pound powder power precipitation preface prepared pressure price priest print printer prison probation process processing produce product production professor profit promotion propane property prose prosecution protest protocol pruner psychiatrist psychology ptarmigan puffin pull puma pump pumpkin punch punishment puppy purchase purple purpose push pvc pyjama pyramid quail quality quart quarter quartz queen question quicksand quiet quill quilt quince quit quiver quotation rabbi rabbit racing radar radiator radio radish raft rail railway rain rainbow raincoat rainstorm rake ramie random range rat rate raven ravioli ray rayon reaction reading reason receipt recess record recorder rectangle red reduction refrigerator refund regret reindeer relation relative religion relish reminder repair replace report representative request resolution respect responsibility rest restaurant result retailer revolve revolver reward rhinoceros rhythm rice richard riddle rifle ring rise risk river riverbed road roadway roast robert robin rock rocket rod roll romania romanian ronald roof room rooster root rose rotate route router rowboat rub rubber rugby rule run russia russian rutabaga ruth sack sagittarius sail sailboat sailor salad salary sale salesman salmon salt sampan samurai sand sandra sandwich santa sarah sardine satin saturday sauce saudi arabia sausage save saw saxophone scale scallion scanner scarecrow scarf scene scent schedule school science scissors scooter scorpio scorpion scraper screen screw screwdriver sea seagull seal seaplane search seashore season seat second secretary secure security seed seeder segment select selection self semicircle semicolon sense sentence separated september servant server session sex shade shadow shake shallot shame shampoo shape share shark sharon shears sheep sheet shelf shell shield shingle ship shirt shock shoe shoemaker shop shorts shoulder shovel show shrimp shrine siamese siberian side sideboard sidecar sidewalk sign signature silica silk silver sing singer single sink sister sister-in-law size skate skiing skill skin skirt sky slash slave sled sleep sleet slice slime slip slipper slope smash smell smile smoke snail snake sneeze snow snowboarding snowflake snowman snowplow snowstorm soap soccer society sociology sock soda sofa softball softdrink software soil soldier son song soprano sort sound soup sousaphone south africa south america south korea soy soybean space spade spaghetti spain spandex spark sparrow spear specialist speedboat sphere sphynx spider spike spinach spleen sponge spoon spot spring sprout spruce spy square squash squid squirrel stage staircase stamp star start starter state statement station statistic steam steel stem step step-aunt step-brother stepdaughter step-daughter step-father step-grandfather step-grandmother stepmother step-mother step-sister stepson step-son step-uncle steven stew stick stinger stitch stock stocking stomach stone stool stop stopsign stopwatch store storm story stove stranger straw stream street streetcar stretch string structure study sturgeon submarine substance subway success sudan suede sugar suggestion suit summer sun sunday sundial sunflower sunshine supermarket supply support surfboard surgeon surname surprise susan sushi swallow swamp swan sweater sweatshirt sweatshop swedish sweets swim swimming swing swiss switch sword swordfish sycamore syria syrup system table tablecloth tabletop tachometer tadpole tail tailor taiwan talk tank tanker tanzania target taste taurus tax taxi taxicab tea teacher teaching team technician teeth television teller temper temperature temple tempo tendency tennis tenor tent territory test text textbook texture thailand theater theory thermometer thing thistle thomas thought thread thrill throat throne thumb thunder thunderstorm thursday ticket tie tiger tights tile timbale time timer timpani tin tip tire titanium title toad toast toe toenail toilet tomato tom-tom ton tongue tooth toothbrush toothpaste top tornado tortellini tortoise touch tower town toy tractor trade traffic trail train tramp transaction transmission transport trapezoid tray treatment tree trial triangle trick trigonometry trip trombone trouble trousers trout trowel truck trumpet trunk t-shirt tsunami tub tuba tuesday tugboat tulip tuna tune turkey turkey turkish turn turnip turnover turret turtle tv twig twilight twine twist typhoon tyvek uganda ukraine ukrainian umbrella uncle underclothes underpants undershirt underwear unit united kingdom unshielded use utensil uzbekistan vacation vacuum valley value van vase vault vegetable vegetarian veil vein velvet venezuela venezuelan verdict vermicelli verse vessel vest veterinarian vibraphone vietnam view vinyl viola violet violin virgo viscose vise vision visitor voice volcano volleyball voyage vulture waiter waitress walk wall wallaby wallet walrus war warm wash washer wasp waste watch watchmaker water waterfall wave wax way wealth weapon weasel weather wedge wednesday weed weeder week weight whale wheel whip whiskey whistle white wholesaler whorl wilderness william willow wind windchime window windscreen windshield wine wing winter wire wish witch withdrawal witness wolf woman women wood wool woolen word work workshop worm wound wrecker wren wrench wrinkle wrist writer xylophone yacht yak yam yard yarn year yellow yew yogurt yoke yugoslavian zebra zephyr zinc zipper zone zoo zoology\"\n",
        "nouns = nouns.split(\" \")\n",
        "noun_prompts = [\"a drawing of a \" + x for x in nouns]\n",
        "\n",
        "# Calculate features\n",
        "with torch.no_grad():\n",
        "    nouns_features = model.encode_text(torch.cat([clip.tokenize(noun_prompts).to(device)]))\n",
        "print(nouns_features.shape, nouns_features.dtype)\n"
      ]
    },
    {
      "cell_type": "markdown",
      "metadata": {
        "id": "kGCLo5gpCExr"
      },
      "source": [
        "## 3. Training a parameter-distance-based perceptual loss\n",
        "### Skip 3. and go to 4. if you only want to use the regular Diffvg / CLIPDraw optimizer\n"
      ]
    },
    {
      "cell_type": "code",
      "execution_count": null,
      "metadata": {
        "id": "AIRIumqrJqP3"
      },
      "outputs": [],
      "source": [
        "# Hyperparameters of model training\n",
        "\n",
        "# Models to choose from [resnet, alexnet, vgg, squeezenet, densenet, inception]\n",
        "model_name = \"resnet\"\n",
        "\n",
        "# size of embedding vector used for image distance\n",
        "embedding_size = 100\n",
        "\n",
        "# Batch size for training \n",
        "batch_size = 8\n",
        "\n",
        "# Number of epochs to train for\n",
        "num_epochs = 10\n",
        "\n",
        "# You can try out a pre-trained model. The download link is in the cell below\n",
        "load_model = True\n",
        "\n",
        "# when training a model, you can start with a pre-trained model \n",
        "# Flag for feature extracting. When False, we finetune the whole model,\n",
        "#   when True we only update the reshaped layer params\n",
        "feature_extract = False\n",
        "\n"
      ]
    },
    {
      "cell_type": "code",
      "source": [
        "# load model\n",
        "!gdown --id {'1ryG5YD-P7mbFv2Rq0tl_JIqrfGdZCGyU'}\n",
        "checkpoint_path = '/content/checkpoint_dual_resnet_20strokes10.pth'"
      ],
      "metadata": {
        "colab": {
          "base_uri": "https://localhost:8080/"
        },
        "id": "Pkzvf6iSGQaY",
        "outputId": "83d43daa-aaed-43d8-ece3-826cc0341152"
      },
      "execution_count": null,
      "outputs": [
        {
          "output_type": "stream",
          "name": "stdout",
          "text": [
            "/usr/local/lib/python3.7/dist-packages/gdown/cli.py:131: FutureWarning: Option `--id` was deprecated in version 4.3.1 and will be removed in 5.0. You don't need to pass it anymore to use a file ID.\n",
            "  category=FutureWarning,\n",
            "Downloading...\n",
            "From: https://drive.google.com/uc?id=1ryG5YD-P7mbFv2Rq0tl_JIqrfGdZCGyU\n",
            "To: /content/diffvg/apps/checkpoint_dual_resnet_20strokes10.pth\n",
            "100% 45.0M/45.0M [00:00<00:00, 107MB/s]\n"
          ]
        }
      ]
    },
    {
      "cell_type": "code",
      "execution_count": null,
      "metadata": {
        "id": "j3Ieaa0dCkX6"
      },
      "outputs": [],
      "source": [
        "# Helper functions for rendering\n",
        "\n",
        "\n",
        "def params_to_rectangle_shapes(parameters, ellipse = False):\n",
        "    '''\n",
        "    Helper function to calculate diffvg shapes and shapegroups from parameter vector\n",
        "    [x0, y0, x1, y1, width, r, g, b, alpha] * num_strokes\n",
        "    We call the strokes rectangles here, but in reality they are more similar to line segments.\n",
        "    '''\n",
        "    #print(parameters.shape, type(parameters))\n",
        "    rectangles = parameters.view((-1, 9)) # because 9 parameters per rectangle\n",
        "    shape_groups = []\n",
        "    shapes = []\n",
        "\n",
        "    for stroke in rectangles:\n",
        "        # no control points -> not curved strokes\n",
        "        num_segments = torch.tensor([1.0])\n",
        "        num_control_points = torch.tensor([0])\n",
        "\n",
        "        # get position parameters\n",
        "        points = stroke[0:4].reshape(2,2)\n",
        "        if torch.sum(torch.abs(points[0] - points[1])).item() < 0.05: # if points had a distance of 0.0, the renderer would crash\n",
        "            points[0] += torch.tensor((0.05, 0.05))\n",
        "        \n",
        "        # generate strokes\n",
        "        path = pydiffvg.Path(num_control_points = num_control_points, points = points, stroke_width = stroke[4], is_closed = False)\n",
        "        shapes.append(path)\n",
        "        path_group = pydiffvg.ShapeGroup(shape_ids = torch.tensor([len(shapes) - 1]), fill_color = None, stroke_color = stroke[5:9])\n",
        "        shape_groups.append(path_group)\n",
        "          \n",
        "    return shapes, shape_groups\n",
        "\n",
        "def render_shapes(shapes, shape_groups, height=128, width=128, quality=2, show_plot = False):\n",
        "    '''Render shapes and shapegroups. If show_plot is True, it will plot the shapes instead of returning the pixel array.'''\n",
        "\n",
        "    # arbitrary internal scale which the shape params have to be based on. Can be equal to pixels, but does not have to.\n",
        "    canvas_width = torch.tensor([1.0]) \n",
        "    canvas_height = torch.tensor([1.0])\n",
        "    \n",
        "    scene_args = pydiffvg.RenderFunction.serialize_scene(canvas_width,\n",
        "                                                         canvas_height,\n",
        "                                                         shapes,\n",
        "                                                         shape_groups,)\n",
        "                                                         #filter = pydiffvg.PixelFilter(type = diffvg.FilterType.hann, radius = torch.tensor(8.0)))\n",
        "    \n",
        "    # render scene\n",
        "    # cannot be used as kw-args!\n",
        "    render = pydiffvg.RenderFunction.apply\n",
        "    img = render(width, # render pixel width\n",
        "                 height, # render pixel height\n",
        "                 quality, # num_samples_x - seems to increase render time quadratically or exponentially\n",
        "                 quality, # num_samples_y\n",
        "                 random.randint(0, 1048576), # seed\n",
        "                 torch.ones((width, height, 4),requires_grad=True), # background_image\n",
        "                 *scene_args) # all shapes, etc.\n",
        "    \n",
        "    #img = img / 256 # needed for sdf\n",
        "    # apply gamma correction - does not seem to be terribly important\n",
        "    # img = exposure.adjust_gamma(img.detach().cpu().numpy(), 1)\n",
        "    \n",
        "    \n",
        "    # remove alpha channel\n",
        "    #img = img[:, :, 3:4] * img[:, :, :3] + torch.ones(img.shape[0], img.shape[1], 3, device = pydiffvg.get_device()) * (1 - img[:, :, 3:4])\n",
        "    \n",
        "    # Permute for pytorch\n",
        "    #img = img.unsqueeze(0)\n",
        "    #img = img.permute(0, 3, 1, 2) # NHWC -> NCHW\n",
        "    \n",
        "    if show_plot:\n",
        "        plt.figure(figsize=(8, 6))\n",
        "        plt.imshow(img.detach().cpu())\n",
        "    \n",
        "    else:\n",
        "        return img"
      ]
    },
    {
      "cell_type": "markdown",
      "source": [
        "### Artificial stroke dataset"
      ],
      "metadata": {
        "id": "XJhS0nukZ-Uu"
      }
    },
    {
      "cell_type": "code",
      "execution_count": null,
      "metadata": {
        "id": "tkoWmGswCGMC"
      },
      "outputs": [],
      "source": [
        "class RectangleDataset(Dataset):\n",
        "    # todo: only supply parameters in init, with which the getitem funciton can create the dataset on the fly\n",
        "    def __init__(self, min_n_shapes, max_n_shapes, max_stepsize, img_size, transform=None, target_transform=None, size = 3200):\n",
        "        \"\"\"parameter boundaries: two lists: minimum and maximum values for parameters\"\"\"\n",
        "        self.img_size = img_size\n",
        "        self.transform = transform\n",
        "        self.target_transform = target_transform\n",
        "        self.max_n_shapes = max_n_shapes\n",
        "        self.min_n_shapes = min_n_shapes\n",
        "        self.max_stepsize = max_stepsize\n",
        "        self.size = size\n",
        "        self.blur = torchvision.transforms.GaussianBlur(5, sigma=(0.1, 4.0))\n",
        "    def __len__(self):\n",
        "        return self.size # does not matter because it is self generated\n",
        "\n",
        "    def __getitem__(self, idx):\n",
        "        with torch.no_grad():\n",
        "            # possible additions:\n",
        "            # - blur images\n",
        "            # - increase max_stepsize over the course of training\n",
        "            # - increase number of shapes over training\n",
        "            # \n",
        "\n",
        "            # number of shapes to be rendered\n",
        "            min_n_shapes = self.min_n_shapes\n",
        "            max_n_shapes = self.max_n_shapes\n",
        "            n_shapes = torch.distributions.categorical.Categorical(torch.tensor([1.0]*(max_n_shapes - min_n_shapes + 1))).sample() + min_n_shapes\n",
        "            n_background_strokes = 4\n",
        "            \n",
        "            n_diffusion_steps = 10 # together with diffusion stepsize controls magnitude of diffusion\n",
        "            \n",
        "            stepsize = torch.rand(1) * self.max_stepsize\n",
        "            \n",
        "            select_diffusion = torch.rand(1).item()\n",
        "            # only color change\n",
        "            if 0 <= select_diffusion < 0.25:\n",
        "              diffusion_stepsizes = torch.tensor([0.01, 0.01, 0.01, 0.01, 0.001, 1, 1, 1, 1]) * stepsize\n",
        "            \n",
        "            # only position change\n",
        "            if 0.25 <= select_diffusion < 0.5:\n",
        "              diffusion_stepsizes = torch.tensor([1, 1, 1, 1, 1, 0.001, 0.01, 0.01, 0.01]) * stepsize\n",
        "            \n",
        "            # color and position changes\n",
        "            if 0.5 <= select_diffusion <= 1:\n",
        "              diffusion_stepsizes = torch.tensor([1, 1, 1, 1, 1, 1, 1, 1, 1]) * stepsize\n",
        "\n",
        "\n",
        "            #diffusion_stepsizes = torch.tensor([0.1, 0.1, 0.1, 0.1, 0.1, 1, 1, 1, 1]) * stepsize\n",
        "            #diffusion_stepsizes = torch.tensor([1  , 1  , 1  , 1  , 1  , 1, 1, 1, 1]) * stepsize # stepsizes for every parameter: [angle, x, y, width, height, r, g, b, a]\n",
        "            strokes_diffused = []\n",
        "            strokes_init = []\n",
        "            \n",
        "            # scale all rectangles to be in similar parameter range (to have some datapoints where all rectangles are small)\n",
        "            scale = 0.5 + torch.rand(1)\n",
        "            scale = 0.5\n",
        "\n",
        "            # for strokes\n",
        "            min_values = torch.tensor([0.1,0.1,0.1,0.1,0.02,0,0,0,0.2]) # x1, y1, x2, y2, w, r, g, b, a\n",
        "            max_values = torch.tensor([0.9,0.9,0.9,0.9,0.15*scale,1,1,1,1])\n",
        "            \n",
        "            short_strokes = torch.rand(1).item() > 0.8\n",
        "\n",
        "            for stroke in range(n_shapes):\n",
        "                if short_strokes:\n",
        "                    position = torch.rand(2)\n",
        "                    size = (torch.rand(2) - 0.5) * 0.3\n",
        "                    width = torch.rand(1) #* 0.15\n",
        "                    color = torch.rand(4)\n",
        "                    params = torch.cat([position, position+size, width, color])\n",
        "                else:\n",
        "                    params = torch.rand(9)\n",
        "                params = params * (max_values - min_values) + min_values\n",
        "                strokes_init.append(params)\n",
        "                for step in range(n_diffusion_steps):\n",
        "                    params = params + torch.distributions.normal.Normal(torch.tensor([0.0]*9), diffusion_stepsizes).sample()\n",
        "                    params = params.clip(min=min_values, max=max_values)\n",
        "                strokes_diffused.append(params)\n",
        "\n",
        "            if torch.rand(1)[0].item() > 0.5: # choose between rectangles and ellipses\n",
        "              shapes, shape_groups = params_to_rectangle_shapes(torch.cat(strokes_init))\n",
        "              img_init = render_shapes(shapes, shape_groups, height=self.img_size, width = self.img_size, quality=2)\n",
        "\n",
        "              shapes, shape_groups = params_to_rectangle_shapes(torch.cat(strokes_diffused))\n",
        "              img_diffused = render_shapes(shapes, shape_groups, height=self.img_size, width = self.img_size, quality=2)\n",
        "            \n",
        "            else:\n",
        "              shapes, shape_groups = params_to_rectangle_shapes(torch.cat(strokes_init), ellipse = True)\n",
        "              img_init = render_shapes(shapes, shape_groups, height=self.img_size, width = self.img_size, quality=2)\n",
        "\n",
        "              shapes, shape_groups = params_to_rectangle_shapes(torch.cat(strokes_diffused), ellipse = True)\n",
        "              img_diffused = render_shapes(shapes, shape_groups, height=self.img_size, width = self.img_size, quality=2)\n",
        "\n",
        "            img_diffused = img_diffused[:, :, 3:4] * img_diffused[:, :, :3] + torch.ones(img_diffused.shape[0], img_diffused.shape[1], 3, device = pydiffvg.get_device()) * (1 - img_diffused[:, :, 3:4])\n",
        "            img_diffused = img_diffused[:, :, :3]\n",
        "            #img_diffused = img_diffused.unsqueeze(0)\n",
        "            img_diffused = img_diffused.permute(2,0,1) # NHWC -> NCHW\n",
        "\n",
        "            img_init = img_init[:, :, 3:4] * img_init[:, :, :3] + torch.ones(img_init.shape[0], img_init.shape[1], 3, device = pydiffvg.get_device()) * (1 - img_init[:, :, 3:4])\n",
        "            img_init = img_init[:, :, :3]\n",
        "            #img_init = img_init.unsqueeze(0)\n",
        "            img_init = img_init.permute(2, 0, 1) # NHWC -> NCHW\n",
        "\n",
        "            # sometimes add small blur to target image\n",
        "            if torch.rand(1).item() > 0.5:\n",
        "              img_init = self.blur(img_init)\n",
        "              img_diffused = self.blur(img_diffused)\n",
        "\n",
        "            # euclidean\n",
        "            #distance = torch.mean(torch.abs(torch.cat(strokes_init) - torch.cat(strokes_diffused))**1) # not sure if mean or sum and L1 or L2 makes more sense\n",
        "            distance = torch.sum(torch.abs(torch.cat(strokes_init) - torch.cat(strokes_diffused))) # not sure if mean or sum and L1 or L2 makes more sense\n",
        "\n",
        "            if self.transform:\n",
        "                img_init = self.transform(img_init)\n",
        "                img_diffused = self.transform(img_diffused)\n",
        "            if self.target_transform:\n",
        "                params = self.target_transform(params)\n",
        "            \n",
        "            return torch.cat([img_diffused, img_init], dim = 0), distance"
      ]
    },
    {
      "cell_type": "code",
      "execution_count": null,
      "metadata": {
        "colab": {
          "base_uri": "https://localhost:8080/",
          "height": 252
        },
        "id": "iS795LYnCJHS",
        "outputId": "93f48453-33ae-4e6f-fd29-357f5f0102a3"
      },
      "outputs": [
        {
          "output_type": "stream",
          "name": "stdout",
          "text": [
            "tensor(3.7927)\n"
          ]
        },
        {
          "output_type": "display_data",
          "data": {
            "text/plain": [
              "<Figure size 576x288 with 2 Axes>"
            ],
            "image/png": "[encoded data removed]"
          },
          "metadata": {
            "needs_background": "light"
          }
        }
      ],
      "source": [
        "# Visualize some results of dataset\n",
        "\n",
        "# [angle, x, y, width, height, r, g, b, a]\n",
        "\n",
        "dataset_train = RectangleDataset(min_n_shapes = 1, max_n_shapes = 20, max_stepsize = 0.2, img_size = 224)\n",
        "dataset_test = RectangleDataset(min_n_shapes = 1, max_n_shapes = 20, max_stepsize = 0.2, img_size = 224)\n",
        "\n",
        "train_dataloader = DataLoader(dataset_train, batch_size=batch_size, shuffle=True)\n",
        "test_dataloader = DataLoader(dataset_test, batch_size=batch_size, shuffle=True)\n",
        "\n",
        "\n",
        "X, y = next(iter(train_dataloader))\n",
        "\n",
        "fig, axs = plt.subplots(1, 2, figsize=(8,4))\n",
        "axs[0].imshow(X[0][:3].permute(1,2,0).cpu())\n",
        "axs[1].imshow(X[0][3:6].permute(1,2,0).cpu())\n",
        "axs[0].axis(\"off\")\n",
        "axs[1].axis(\"off\")\n",
        "print(y[0])\n"
      ]
    },
    {
      "cell_type": "markdown",
      "source": [
        "### Training\n",
        "\n",
        "Train (or fine-tune pre-trained) vision model to learn distance value. Code adapted from https://pytorch.org/tutorials/beginner/finetuning_torchvision_models_tutorial.html"
      ],
      "metadata": {
        "id": "iM1IlL9CdrNa"
      }
    },
    {
      "cell_type": "code",
      "execution_count": null,
      "metadata": {
        "id": "FPJAT49EJulU"
      },
      "outputs": [],
      "source": [
        "def train_model(model, dataloaders, criterion, optimizer, num_epochs=25, is_inception=False, two_networks = True):\n",
        "    since = time.time()\n",
        "\n",
        "    val_acc_history = []\n",
        "    train_loss_history = []\n",
        "\n",
        "    best_model_wts = copy.deepcopy(model.state_dict())\n",
        "    best_acc = 0.0\n",
        "\n",
        "    for epoch in range(num_epochs):\n",
        "        print('Epoch {}/{}'.format(epoch, num_epochs - 1))\n",
        "        print('-' * 10)\n",
        "\n",
        "        # Each epoch has a training and validation phase\n",
        "        for phase in ['train', 'val']:\n",
        "            if phase == 'train':\n",
        "                model.train()  # Set model to training mode\n",
        "            else:\n",
        "                model.eval()   # Set model to evaluate mode\n",
        "\n",
        "            running_loss = 0.0\n",
        "            running_loss_mean = 0.0\n",
        "            running_corrects = 0\n",
        "\n",
        "            # Iterate over data.\n",
        "            for inputs, labels in dataloaders[phase]:\n",
        "                inputs = inputs.to(device)\n",
        "                labels = labels.to(device)\n",
        "\n",
        "                # zero the parameter gradients\n",
        "                optimizer.zero_grad()\n",
        "\n",
        "                # forward\n",
        "                # track history if only in train\n",
        "                with torch.set_grad_enabled(phase == 'train'):\n",
        "                    # Get model outputs and calculate loss\n",
        "                    # Special case for inception because in training it has an auxiliary output. In train\n",
        "                    #   mode we calculate the loss by summing the final output and the auxiliary output\n",
        "                    #   but in testing we only consider the final output.\n",
        "                    if is_inception and phase == 'train':\n",
        "                        # From https://discuss.pytorch.org/t/how-to-optimize-inception-model-with-auxiliary-classifiers/7958\n",
        "                        outputs, aux_outputs = model(inputs)\n",
        "                        loss1 = criterion(outputs, labels)\n",
        "                        loss2 = criterion(aux_outputs, labels)\n",
        "                        loss = loss1 + 0.4*loss2\n",
        "                    else:\n",
        "                        if two_networks:\n",
        "                          embeddings_1 = model(inputs[:,0:3,:,:])\n",
        "                          embeddings_2 = model(inputs[:,3:6,:,:])\n",
        "                          embedding_distances = torch.sum((embeddings_1 - embeddings_2)**2, dim=1)\n",
        "                          loss = torch.sum((embedding_distances - labels)**2)\n",
        "                          loss_mean = torch.mean(torch.abs(embedding_distances - labels))\n",
        "                        else: # regular prediction loss, expects different model architecture!\n",
        "                          outputs = model(inputs)\n",
        "                          loss = criterion(outputs.squeeze(1), labels)\n",
        "\n",
        "                    #_, preds = torch.max(outputs, 1)\n",
        "\n",
        "                    # backward + optimize only if in training phase\n",
        "                    if phase == 'train':\n",
        "                        loss.backward()\n",
        "                        optimizer.step()\n",
        "\n",
        "                # statistics\n",
        "                running_loss += loss.item() * inputs.size(0)\n",
        "                running_loss_mean += loss_mean.item() * inputs.size(0)\n",
        "                #running_corrects += torch.sum(preds == labels.data)\n",
        "\n",
        "            epoch_loss = running_loss / len(dataloaders[phase].dataset)\n",
        "            #epoch_acc = running_corrects.double() / len(dataloaders[phase].dataset)\n",
        "            epoch_acc = running_loss_mean / len(dataloaders[phase].dataset)\n",
        "\n",
        "            print('{} Loss: {:.4f} Acc: {:.4f}'.format(phase, epoch_loss, epoch_acc))\n",
        "\n",
        "            # deep copy the model\n",
        "            if phase == 'val' and epoch_acc < best_acc:\n",
        "                best_acc = epoch_acc\n",
        "                #best_model_wts = copy.deepcopy(model.state_dict())\n",
        "                \n",
        "            if phase == 'val':\n",
        "                val_acc_history.append(epoch_acc)\n",
        "\n",
        "            else:\n",
        "                train_loss_history.append(epoch_loss)\n",
        "            \n",
        "            #if epoch % 1 == 0:\n",
        "            #      torch.save(model_ft.state_dict(), 'checkpoint.pth')\n",
        "            #      files.download('checkpoint.pth')\n",
        "\n",
        "        print()\n",
        "\n",
        "    time_elapsed = time.time() - since\n",
        "    print('Training complete in {:.0f}m {:.0f}s'.format(time_elapsed // 60, time_elapsed % 60))\n",
        "    print('Best val Acc: {:4f}'.format(best_acc))\n",
        "\n",
        "    # load best model weights\n",
        "    #model.load_state_dict(best_model_wts)\n",
        "    return model, val_acc_history, train_loss_history"
      ]
    },
    {
      "cell_type": "code",
      "execution_count": null,
      "metadata": {
        "colab": {
          "base_uri": "https://localhost:8080/"
        },
        "id": "KzX0inD4LHQF",
        "outputId": "6dc81cc0-b5fb-41eb-9c20-d9a3b83cfd3c"
      },
      "outputs": [
        {
          "output_type": "stream",
          "name": "stderr",
          "text": [
            "WARNING:py.warnings:/usr/local/lib/python3.7/dist-packages/torchvision/models/_utils.py:209: UserWarning: The parameter 'pretrained' is deprecated since 0.13 and will be removed in 0.15, please use 'weights' instead.\n",
            "  f\"The parameter '{pretrained_param}' is deprecated since 0.13 and will be removed in 0.15, \"\n",
            "\n",
            "WARNING:py.warnings:/usr/local/lib/python3.7/dist-packages/torchvision/models/_utils.py:223: UserWarning: Arguments other than a weight enum or `None` for 'weights' are deprecated since 0.13 and will be removed in 0.15. The current behavior is equivalent to passing `weights=ResNet18_Weights.IMAGENET1K_V1`. You can also use `weights=ResNet18_Weights.DEFAULT` to get the most up-to-date weights.\n",
            "  warnings.warn(msg)\n",
            "\n"
          ]
        },
        {
          "output_type": "stream",
          "name": "stdout",
          "text": [
            "ResNet(\n",
            "  (conv1): Conv2d(3, 64, kernel_size=(7, 7), stride=(2, 2), padding=(3, 3), bias=False)\n",
            "  (bn1): BatchNorm2d(64, eps=1e-05, momentum=0.1, affine=True, track_running_stats=True)\n",
            "  (relu): ReLU(inplace=True)\n",
            "  (maxpool): MaxPool2d(kernel_size=3, stride=2, padding=1, dilation=1, ceil_mode=False)\n",
            "  (layer1): Sequential(\n",
            "    (0): BasicBlock(\n",
            "      (conv1): Conv2d(64, 64, kernel_size=(3, 3), stride=(1, 1), padding=(1, 1), bias=False)\n",
            "      (bn1): BatchNorm2d(64, eps=1e-05, momentum=0.1, affine=True, track_running_stats=True)\n",
            "      (relu): ReLU(inplace=True)\n",
            "      (conv2): Conv2d(64, 64, kernel_size=(3, 3), stride=(1, 1), padding=(1, 1), bias=False)\n",
            "      (bn2): BatchNorm2d(64, eps=1e-05, momentum=0.1, affine=True, track_running_stats=True)\n",
            "    )\n",
            "    (1): BasicBlock(\n",
            "      (conv1): Conv2d(64, 64, kernel_size=(3, 3), stride=(1, 1), padding=(1, 1), bias=False)\n",
            "      (bn1): BatchNorm2d(64, eps=1e-05, momentum=0.1, affine=True, track_running_stats=True)\n",
            "      (relu): ReLU(inplace=True)\n",
            "      (conv2): Conv2d(64, 64, kernel_size=(3, 3), stride=(1, 1), padding=(1, 1), bias=False)\n",
            "      (bn2): BatchNorm2d(64, eps=1e-05, momentum=0.1, affine=True, track_running_stats=True)\n",
            "    )\n",
            "  )\n",
            "  (layer2): Sequential(\n",
            "    (0): BasicBlock(\n",
            "      (conv1): Conv2d(64, 128, kernel_size=(3, 3), stride=(2, 2), padding=(1, 1), bias=False)\n",
            "      (bn1): BatchNorm2d(128, eps=1e-05, momentum=0.1, affine=True, track_running_stats=True)\n",
            "      (relu): ReLU(inplace=True)\n",
            "      (conv2): Conv2d(128, 128, kernel_size=(3, 3), stride=(1, 1), padding=(1, 1), bias=False)\n",
            "      (bn2): BatchNorm2d(128, eps=1e-05, momentum=0.1, affine=True, track_running_stats=True)\n",
            "      (downsample): Sequential(\n",
            "        (0): Conv2d(64, 128, kernel_size=(1, 1), stride=(2, 2), bias=False)\n",
            "        (1): BatchNorm2d(128, eps=1e-05, momentum=0.1, affine=True, track_running_stats=True)\n",
            "      )\n",
            "    )\n",
            "    (1): BasicBlock(\n",
            "      (conv1): Conv2d(128, 128, kernel_size=(3, 3), stride=(1, 1), padding=(1, 1), bias=False)\n",
            "      (bn1): BatchNorm2d(128, eps=1e-05, momentum=0.1, affine=True, track_running_stats=True)\n",
            "      (relu): ReLU(inplace=True)\n",
            "      (conv2): Conv2d(128, 128, kernel_size=(3, 3), stride=(1, 1), padding=(1, 1), bias=False)\n",
            "      (bn2): BatchNorm2d(128, eps=1e-05, momentum=0.1, affine=True, track_running_stats=True)\n",
            "    )\n",
            "  )\n",
            "  (layer3): Sequential(\n",
            "    (0): BasicBlock(\n",
            "      (conv1): Conv2d(128, 256, kernel_size=(3, 3), stride=(2, 2), padding=(1, 1), bias=False)\n",
            "      (bn1): BatchNorm2d(256, eps=1e-05, momentum=0.1, affine=True, track_running_stats=True)\n",
            "      (relu): ReLU(inplace=True)\n",
            "      (conv2): Conv2d(256, 256, kernel_size=(3, 3), stride=(1, 1), padding=(1, 1), bias=False)\n",
            "      (bn2): BatchNorm2d(256, eps=1e-05, momentum=0.1, affine=True, track_running_stats=True)\n",
            "      (downsample): Sequential(\n",
            "        (0): Conv2d(128, 256, kernel_size=(1, 1), stride=(2, 2), bias=False)\n",
            "        (1): BatchNorm2d(256, eps=1e-05, momentum=0.1, affine=True, track_running_stats=True)\n",
            "      )\n",
            "    )\n",
            "    (1): BasicBlock(\n",
            "      (conv1): Conv2d(256, 256, kernel_size=(3, 3), stride=(1, 1), padding=(1, 1), bias=False)\n",
            "      (bn1): BatchNorm2d(256, eps=1e-05, momentum=0.1, affine=True, track_running_stats=True)\n",
            "      (relu): ReLU(inplace=True)\n",
            "      (conv2): Conv2d(256, 256, kernel_size=(3, 3), stride=(1, 1), padding=(1, 1), bias=False)\n",
            "      (bn2): BatchNorm2d(256, eps=1e-05, momentum=0.1, affine=True, track_running_stats=True)\n",
            "    )\n",
            "  )\n",
            "  (layer4): Sequential(\n",
            "    (0): BasicBlock(\n",
            "      (conv1): Conv2d(256, 512, kernel_size=(3, 3), stride=(2, 2), padding=(1, 1), bias=False)\n",
            "      (bn1): BatchNorm2d(512, eps=1e-05, momentum=0.1, affine=True, track_running_stats=True)\n",
            "      (relu): ReLU(inplace=True)\n",
            "      (conv2): Conv2d(512, 512, kernel_size=(3, 3), stride=(1, 1), padding=(1, 1), bias=False)\n",
            "      (bn2): BatchNorm2d(512, eps=1e-05, momentum=0.1, affine=True, track_running_stats=True)\n",
            "      (downsample): Sequential(\n",
            "        (0): Conv2d(256, 512, kernel_size=(1, 1), stride=(2, 2), bias=False)\n",
            "        (1): BatchNorm2d(512, eps=1e-05, momentum=0.1, affine=True, track_running_stats=True)\n",
            "      )\n",
            "    )\n",
            "    (1): BasicBlock(\n",
            "      (conv1): Conv2d(512, 512, kernel_size=(3, 3), stride=(1, 1), padding=(1, 1), bias=False)\n",
            "      (bn1): BatchNorm2d(512, eps=1e-05, momentum=0.1, affine=True, track_running_stats=True)\n",
            "      (relu): ReLU(inplace=True)\n",
            "      (conv2): Conv2d(512, 512, kernel_size=(3, 3), stride=(1, 1), padding=(1, 1), bias=False)\n",
            "      (bn2): BatchNorm2d(512, eps=1e-05, momentum=0.1, affine=True, track_running_stats=True)\n",
            "    )\n",
            "  )\n",
            "  (avgpool): AdaptiveAvgPool2d(output_size=(1, 1))\n",
            "  (fc): Linear(in_features=512, out_features=100, bias=True)\n",
            ")\n"
          ]
        }
      ],
      "source": [
        "def set_parameter_requires_grad(model, feature_extracting):\n",
        "    if feature_extracting:\n",
        "        for param in model.parameters():\n",
        "            param.requires_grad = False\n",
        "\n",
        "def initialize_model(model_name, num_classes, feature_extract, use_pretrained=True):\n",
        "    # Initialize these variables which will be set in this if statement. Each of these\n",
        "    #   variables is model specific.\n",
        "    model_ft = None\n",
        "    input_size = 0\n",
        "\n",
        "    if model_name == \"resnet\":\n",
        "        \"\"\" Resnet18\n",
        "        \"\"\"\n",
        "        model_ft = models.resnet18(pretrained=use_pretrained)\n",
        "        set_parameter_requires_grad(model_ft, feature_extract)\n",
        "        num_ftrs = model_ft.fc.in_features\n",
        "        model_ft.fc = nn.Linear(num_ftrs, num_classes)\n",
        "        #\n",
        "        #model_ft.conv1 = nn.Conv2d(6,64,kernel_size=(7,7), stride = (2,2), padding = (3,3), bias = False)\n",
        "        #\n",
        "        input_size = 224\n",
        "\n",
        "    elif model_name == \"alexnet\":\n",
        "        \"\"\" Alexnet\n",
        "        \"\"\"\n",
        "        model_ft = models.alexnet(pretrained=use_pretrained)\n",
        "        set_parameter_requires_grad(model_ft, feature_extract)\n",
        "        num_ftrs = model_ft.classifier[6].in_features\n",
        "        model_ft.classifier[6] = nn.Linear(num_ftrs,num_classes)\n",
        "        input_size = 224\n",
        "\n",
        "    elif model_name == \"vgg\":\n",
        "        \"\"\" VGG11_bn\n",
        "        \"\"\"\n",
        "        model_ft = models.vgg11_bn(pretrained=use_pretrained)\n",
        "        set_parameter_requires_grad(model_ft, feature_extract)\n",
        "        num_ftrs = model_ft.classifier[6].in_features\n",
        "        model_ft.classifier[6] = nn.Linear(num_ftrs,num_classes)\n",
        "        input_size = 224\n",
        "\n",
        "    elif model_name == \"squeezenet\":\n",
        "        \"\"\" Squeezenet\n",
        "        \"\"\"\n",
        "        model_ft = models.squeezenet1_0(pretrained=use_pretrained)\n",
        "        set_parameter_requires_grad(model_ft, feature_extract)\n",
        "        model_ft.classifier[1] = nn.Conv2d(512, num_classes, kernel_size=(1,1), stride=(1,1))\n",
        "        model_ft.num_classes = num_classes\n",
        "        input_size = 224\n",
        "        #\n",
        "        model_ft.features[0] = nn.Conv2d(6, 96, kernel_size=(7, 7), stride=(2, 2))\n",
        "        model_ft.classifier[2] = nn.LeakyReLU(inplace=True)\n",
        "        #\n",
        "    elif model_name == \"densenet\":\n",
        "        \"\"\" Densenet\n",
        "        \"\"\"\n",
        "        model_ft = models.densenet121(pretrained=use_pretrained)\n",
        "        set_parameter_requires_grad(model_ft, feature_extract)\n",
        "        num_ftrs = model_ft.classifier.in_features\n",
        "        model_ft.classifier = nn.Linear(num_ftrs, num_classes)\n",
        "        input_size = 224\n",
        "        #\n",
        "        model_ft.conv0 = nn.Conv2d(6, 64, kernel_size=(7, 7), stride=(2, 2), padding=(3, 3), bias=False)\n",
        "        #\n",
        "\n",
        "    elif model_name == \"inception\":\n",
        "        \"\"\" Inception v3\n",
        "        Be careful, expects (299,299) sized images and has auxiliary output\n",
        "        \"\"\"\n",
        "        model_ft = models.inception_v3(pretrained=use_pretrained)\n",
        "        set_parameter_requires_grad(model_ft, feature_extract)\n",
        "        # Handle the auxilary net\n",
        "        num_ftrs = model_ft.AuxLogits.fc.in_features\n",
        "        model_ft.AuxLogits.fc = nn.Linear(num_ftrs, num_classes)\n",
        "        # Handle the primary net\n",
        "        num_ftrs = model_ft.fc.in_features\n",
        "        model_ft.fc = nn.Linear(num_ftrs,num_classes)\n",
        "        input_size = 299\n",
        "\n",
        "    else:\n",
        "        print(\"Invalid model name, exiting...\")\n",
        "        exit()\n",
        "\n",
        "    return model_ft, input_size\n",
        "\n",
        "num_classes = embedding_size\n",
        "\n",
        "# Initialize the model for this run\n",
        "model_ft, input_size = initialize_model(model_name, num_classes, feature_extract, use_pretrained=True)\n",
        "\n",
        "# Print the model we just instantiated\n",
        "print(model_ft)"
      ]
    },
    {
      "cell_type": "code",
      "execution_count": null,
      "metadata": {
        "id": "SBfhbAsiLGQq",
        "colab": {
          "base_uri": "https://localhost:8080/"
        },
        "outputId": "b5a08668-0528-4a8b-de69-316e8bdeea12"
      },
      "outputs": [
        {
          "output_type": "stream",
          "name": "stdout",
          "text": [
            "Params to learn:\n"
          ]
        }
      ],
      "source": [
        "data_transforms = transforms.Compose([\n",
        "        #transforms.RandomResizedCrop(input_size),\n",
        "        #transforms.RandomHorizontalFlip(),\n",
        "        #transforms.ToTensor(),\n",
        "        #transforms.Normalize([0.485, 0.456, 0.406], [0.229, 0.224, 0.225])\n",
        "    ])\n",
        "\n",
        "# max_stepsize influences the stepsize of random changes to parameter values. Large stepsize = higher distances of images\n",
        "dataset_train = RectangleDataset(min_n_shapes = 1, max_n_shapes = 20, max_stepsize = 0.15, img_size = input_size, transform = data_transforms, size = 3200)  \n",
        "dataset_test = RectangleDataset(min_n_shapes = 1, max_n_shapes = 20, max_stepsize = 0.15, img_size = input_size, transform = data_transforms, size = 300)\n",
        "\n",
        "train_dataloader = DataLoader(dataset_train, batch_size=batch_size, shuffle=True)\n",
        "test_dataloader = DataLoader(dataset_test, batch_size=batch_size, shuffle=True)\n",
        "\n",
        "dataloaders_dict = {\"train\": train_dataloader, \"val\": test_dataloader}\n",
        "\n",
        "# Detect if we have a GPU available\n",
        "device = torch.device(\"cuda:0\" if torch.cuda.is_available() else \"cpu\")\n",
        "\n",
        "# Send the model to GPU\n",
        "model_ft = model_ft.to(device)\n",
        "\n",
        "# Gather the parameters to be optimized/updated in this run. If we are\n",
        "#  finetuning we will be updating all parameters. However, if we are\n",
        "#  doing feature extract method, we will only update the parameters\n",
        "#  that we have just initialized, i.e. the parameters with requires_grad\n",
        "#  is True.\n",
        "params_to_update = model_ft.parameters()\n",
        "print(\"Params to learn:\")\n",
        "if feature_extract:\n",
        "    params_to_update = []\n",
        "    for name,param in model_ft.named_parameters():\n",
        "        if param.requires_grad == True:\n",
        "            params_to_update.append(param)\n",
        "            #print(\"\\t\",name)\n",
        "else:\n",
        "    for name,param in model_ft.named_parameters():\n",
        "        if param.requires_grad == True:\n",
        "            #print(\"\\t\",name)\n",
        "            pass\n",
        "# Observe that all parameters are being optimized\n",
        "#optimizer_ft = optim.SGD(params_to_update, lr=0.001, momentum=0.9)\n",
        "optimizer_ft = optim.Adam(params_to_update, lr=0.003)"
      ]
    },
    {
      "cell_type": "code",
      "execution_count": null,
      "metadata": {
        "id": "pe2qqSk2Oxzj"
      },
      "outputs": [],
      "source": [
        "# TRAIN\n",
        "\n",
        "# Setup the loss fxn\n",
        "criterion = nn.MSELoss() # how embeddings are compared. e.g. cosine distance would work as well.\n",
        "\n",
        "if not load_model:\n",
        "  # Train and evaluate\n",
        "  model_ft, hist_val, hist_train = train_model(model_ft, dataloaders_dict, criterion, optimizer_ft, num_epochs=num_epochs, is_inception=False)\n",
        "\n",
        "else:\n",
        "  state_dict = torch.load(checkpoint_path ,map_location=torch.device('cuda' if torch.cuda.is_available() else 'cpu'))\n",
        "  model_ft.load_state_dict(state_dict)"
      ]
    },
    {
      "cell_type": "markdown",
      "source": [
        "### Evaluating the model performance"
      ],
      "metadata": {
        "id": "ZLeteC4JuTDo"
      }
    },
    {
      "cell_type": "code",
      "source": [
        "def diffusion_distance(X):\n",
        "  embeddings_1 = model_ft(X[:,0:3,:,:])\n",
        "  embeddings_2 = model_ft(X[:,3:6,:,:])\n",
        "  embedding_distances = torch.sum((embeddings_1 - embeddings_2)**2, dim=1)\n",
        "  return embedding_distances"
      ],
      "metadata": {
        "id": "R2NX_58GdIJQ"
      },
      "execution_count": null,
      "outputs": []
    },
    {
      "cell_type": "code",
      "source": [
        "with torch.no_grad():\n",
        "  model_ft.eval()\n",
        "  all_predictions = []\n",
        "  all_real = []\n",
        "  dataset = RectangleDataset(min_n_shapes = 1, max_n_shapes = 20, max_stepsize = 0.15, img_size = input_size, transform = data_transforms, size = 2000)\n",
        "  dataloader = DataLoader(dataset_train, batch_size=batch_size, shuffle=True)\n",
        "  for (X, y) in dataloader:\n",
        "    predictions = diffusion_distance(X)\n",
        "    all_predictions.append(predictions)\n",
        "    all_real.append(y)"
      ],
      "metadata": {
        "id": "qXZU24YQxt3y"
      },
      "execution_count": null,
      "outputs": []
    },
    {
      "cell_type": "code",
      "source": [
        "  plt.figure(figsize=(4,4))\n",
        "  plt.xlim(-5, 50)\n",
        "  plt.ylim(-5, 50)\n",
        "  plt.xlabel(\"True distance\")\n",
        "  plt.ylabel(\"Predicted distance\")\n",
        "  real = torch.cat(all_real).cpu()\n",
        "  pred = torch.cat(all_predictions).cpu()\n",
        "  plt.scatter(real, pred, alpha = 0.2, s = 5, )\n",
        "  plt.plot([0,50],[0,50], c = \"black\", alpha=0.5)\n",
        "  #plt.savefig(\"loss_dual.pdf\")"
      ],
      "metadata": {
        "colab": {
          "base_uri": "https://localhost:8080/",
          "height": 301
        },
        "id": "BjTvSSzi2KND",
        "outputId": "daca25ee-acec-4571-bc5e-428833ff7f19"
      },
      "execution_count": null,
      "outputs": [
        {
          "output_type": "execute_result",
          "data": {
            "text/plain": [
              "[<matplotlib.lines.Line2D at 0x7fa4ece54b10>]"
            ]
          },
          "metadata": {},
          "execution_count": 55
        },
        {
          "output_type": "display_data",
          "data": {
            "text/plain": [
              "<Figure size 288x288 with 1 Axes>"
            ],
            "image/png": "[encoded data removed]"
          },
          "metadata": {
            "needs_background": "light"
          }
        }
      ]
    },
    {
      "cell_type": "code",
      "source": [
        "# Mean absolute error of the model\n",
        "print(\"MAE: \", torch.mean(torch.abs((real-pred))).item())"
      ],
      "metadata": {
        "colab": {
          "base_uri": "https://localhost:8080/"
        },
        "id": "hPjqzFge7H8v",
        "outputId": "4d693e0c-8015-4d85-932e-82a8a4cca4f9"
      },
      "execution_count": null,
      "outputs": [
        {
          "output_type": "stream",
          "name": "stdout",
          "text": [
            "MAE:  3.4779043197631836\n"
          ]
        }
      ]
    },
    {
      "cell_type": "code",
      "source": [
        "# Download and save your trained model (uncomment cells below)\n",
        "# torch.save(model_ft.state_dict(), 'checkpoint_dual_resnet_20strokes10.pth')\n",
        "# files.download('checkpoint_dual_resnet_20strokes10.pth')"
      ],
      "metadata": {
        "colab": {
          "base_uri": "https://localhost:8080/",
          "height": 17
        },
        "id": "Kf52QruZdOat",
        "outputId": "87230b21-578f-464b-a92a-56f7fb833584"
      },
      "execution_count": null,
      "outputs": [
        {
          "output_type": "display_data",
          "data": {
            "text/plain": [
              "<IPython.core.display.Javascript object>"
            ],
            "application/javascript": [
              "\n",
              "    async function download(id, filename, size) {\n",
              "      if (!google.colab.kernel.accessAllowed) {\n",
              "        return;\n",
              "      }\n",
              "      const div = document.createElement('div');\n",
              "      const label = document.createElement('label');\n",
              "      label.textContent = `Downloading \"${filename}\": `;\n",
              "      div.appendChild(label);\n",
              "      const progress = document.createElement('progress');\n",
              "      progress.max = size;\n",
              "      div.appendChild(progress);\n",
              "      document.body.appendChild(div);\n",
              "\n",
              "      const buffers = [];\n",
              "      let downloaded = 0;\n",
              "\n",
              "      const channel = await google.colab.kernel.comms.open(id);\n",
              "      // Send a message to notify the kernel that we're ready.\n",
              "      channel.send({})\n",
              "\n",
              "      for await (const message of channel.messages) {\n",
              "        // Send a message to notify the kernel that we're ready.\n",
              "        channel.send({})\n",
              "        if (message.buffers) {\n",
              "          for (const buffer of message.buffers) {\n",
              "            buffers.push(buffer);\n",
              "            downloaded += buffer.byteLength;\n",
              "            progress.value = downloaded;\n",
              "          }\n",
              "        }\n",
              "      }\n",
              "      const blob = new Blob(buffers, {type: 'application/binary'});\n",
              "      const a = document.createElement('a');\n",
              "      a.href = window.URL.createObjectURL(blob);\n",
              "      a.download = filename;\n",
              "      div.appendChild(a);\n",
              "      a.click();\n",
              "      div.remove();\n",
              "    }\n",
              "  "
            ]
          },
          "metadata": {}
        },
        {
          "output_type": "display_data",
          "data": {
            "text/plain": [
              "<IPython.core.display.Javascript object>"
            ],
            "application/javascript": [
              "download(\"download_0587fd7f-b027-4df7-8706-78064bb0adb1\", \"checkpoint_dual_resnet_20strokes10.pth\", 44989261)"
            ]
          },
          "metadata": {}
        }
      ]
    },
    {
      "cell_type": "code",
      "execution_count": null,
      "metadata": {
        "id": "9U6D6HbCguIK",
        "colab": {
          "base_uri": "https://localhost:8080/",
          "height": 290
        },
        "outputId": "01b78141-671e-48e1-81d8-4d763e688a90"
      },
      "outputs": [
        {
          "output_type": "stream",
          "name": "stdout",
          "text": [
            "tensor(11.5942)\n",
            "Real: tensor(11.5942) Predicted: 7.852794647216797\n"
          ]
        },
        {
          "output_type": "display_data",
          "data": {
            "text/plain": [
              "<Figure size 576x288 with 2 Axes>"
            ],
            "image/png": "[encoded data removed]"
          },
          "metadata": {
            "needs_background": "light"
          }
        }
      ],
      "source": [
        "# Run this cell multiple times to get different random samples + prediction\n",
        "\n",
        "X, y = next(iter(train_dataloader))\n",
        "#print(X.shape, y.shape)\n",
        "\n",
        "#print(X[0][:3].permute(1,2,0).shape)\n",
        "fig, axs = plt.subplots(1, 2, figsize=(8,4))\n",
        "axs[0].imshow(X[0][:3].permute(1,2,0).cpu())\n",
        "axs[1].imshow(X[0][3:6].permute(1,2,0).cpu())\n",
        "print(y[0])\n",
        "#print(model_ft(X)[0])\n",
        "\n",
        "print(\"Real:\", y[0], \"Predicted:\", diffusion_distance(X)[0].item())"
      ]
    },
    {
      "cell_type": "markdown",
      "source": [
        "## 4. Painting images through iterative optimization"
      ],
      "metadata": {
        "id": "P8rL1qqnuZzY"
      }
    },
    {
      "cell_type": "markdown",
      "source": [
        "### Some utility functions / losses"
      ],
      "metadata": {
        "id": "IQuK1Zu4S3uJ"
      }
    },
    {
      "cell_type": "code",
      "source": [
        "def gradient_loss(gen_frames, gt_frames, alpha=1):\n",
        "    \"\"\"Gradient loss: MAE image gradients (i.e. edges of images).\"\"\"\n",
        "    def gradient(x):\n",
        "        # idea from tf.image.image_gradients(image)\n",
        "        # https://github.com/tensorflow/tensorflow/blob/r2.1/tensorflow/python/ops/image_ops_impl.py#L3441-L3512\n",
        "        # x: (b,c,h,w), float32 or float64\n",
        "        # dx, dy: (b,c,h,w)\n",
        "\n",
        "        h_x = x.size()[-2]\n",
        "        w_x = x.size()[-1]\n",
        "        # gradient step=1\n",
        "        left = x\n",
        "        right = F.pad(x, [0, 1, 0, 0])[:, :, :, 1:]\n",
        "        top = x\n",
        "        bottom = F.pad(x, [0, 0, 0, 1])[:, :, 1:, :]\n",
        "\n",
        "        # dx, dy = torch.abs(right - left), torch.abs(bottom - top)\n",
        "        dx, dy = right - left, bottom - top \n",
        "        # dx will always have zeros in the last column, right-left\n",
        "        # dy will always have zeros in the last row,    bottom-top\n",
        "        dx[:, :, :, -1] = 0\n",
        "        dy[:, :, -1, :] = 0\n",
        "\n",
        "        return dx, dy\n",
        "\n",
        "    resize = torchvision.transforms.Resize(64)\n",
        "    gen_frames = resize(gen_frames)\n",
        "    gt_frames = resize(gt_frames)\n",
        "\n",
        "    # gradient\n",
        "    gen_dx, gen_dy = gradient(gen_frames)\n",
        "    gt_dx, gt_dy = gradient(gt_frames)\n",
        "\n",
        "    #blur = torchvision.transforms.GaussianBlur(9, sigma=(10))\n",
        "\n",
        "    #show_img((torch.abs(gen_dx)+torch.abs(gen_dy)).squeeze().detach().cpu()) # decide which is best here. also blurring?\n",
        "    #show_img(blur(torch.abs(gen_dx)+torch.abs(gen_dy)).squeeze().detach().cpu())\n",
        "    \n",
        "    # blurred edges - there is some bug in this code\n",
        "    #gen_grad = torch.abs(gen_dx) + torch.abs(gen_dy)\n",
        "    #gt_grad = torch.abs(gt_dx) + torch.abs(gt_dy)\n",
        "    #gt_grad = blur(gt_grad)\n",
        "    #gen_grad = blur(gen_grad)\n",
        "\n",
        "    #return(torch.mean(torch.abs(gt_grad - gen_grad)))\n",
        "    \n",
        "    #grad_diff_x = torch.abs(blur(gt_dx) - blur(gen_dx))\n",
        "    #grad_diff_y = torch.abs(blur(gt_dy) - blur(gen_dy))\n",
        "        \n",
        "    grad_diff_x = torch.abs((gt_dx) - (gen_dx))\n",
        "    grad_diff_y = torch.abs((gt_dy) - (gen_dy))\n",
        "\n",
        "\n",
        "    # condense into one tensor and avg\n",
        "    return torch.mean(grad_diff_x ** alpha + grad_diff_y ** alpha)\n",
        "\n"
      ],
      "metadata": {
        "id": "cUdnwg0usDyD"
      },
      "execution_count": null,
      "outputs": []
    },
    {
      "cell_type": "code",
      "source": [
        "def angle_loss(shapes, canvas_size = 224, sigma = 20):\n",
        "  \"\"\"Angle loss. High loss value if angles of neighboring strokes are different (i.e. low if strokes are parallel).\n",
        "  Very slow for large numbers of strokes.\n",
        "  sigma = pixel size of neighborhood\"\"\"\n",
        "  loss = torch.tensor(0.0).to(device)\n",
        "  max_distance = torch.linalg.vector_norm(torch.tensor([canvas_size, canvas_size], dtype = torch.float))\n",
        "\n",
        "  for p1 in range(len(shapes)):\n",
        "    path_1 = shapes[p1]\n",
        "    for i in range(path_1.points.shape[0] - 1):\n",
        "      direction_1 = torch.nn.functional.normalize(path_1.points[i] - path_1.points[i+1], dim=0)\n",
        "      middle_1 = (path_1.points[i] + path_1.points[i+1]) / 2\n",
        "\n",
        "      for p2 in range(p1 + 1, len(shapes)):\n",
        "        path_2 = shapes[p2]\n",
        "        for j in range(path_2.points.shape[0] - 1):\n",
        "          middle_2 = (path_2.points[j] + path_2.points[j+1]) / 2\n",
        "          distance = torch.abs(torch.linalg.vector_norm(middle_1 - middle_2))\n",
        "          weight = torch.exp(-(distance / (0.5*sigma))**2)\n",
        "          if weight.item() < 0.05: # skips small weights for performance reasons\n",
        "            pass\n",
        "          else:\n",
        "            direction_2 = torch.nn.functional.normalize(path_2.points[j] - path_2.points[j+1], dim=0)\n",
        "            angle = 1 - torch.abs(torch.dot(direction_1, direction_2)) # not really the \"angle\" ...\n",
        "            loss += angle * weight\n",
        "\n",
        "  return loss / (len(shapes) * (len(shapes)-1) / 2 ) # normalize such that it can never be more than 1\n",
        "#print(orientation_loss(shapes))"
      ],
      "metadata": {
        "id": "7THnRJx_GZXr"
      },
      "execution_count": null,
      "outputs": []
    },
    {
      "cell_type": "markdown",
      "source": [
        "### Hyperparameters!\n",
        "Play around with these to get different paintings"
      ],
      "metadata": {
        "id": "v-qG2YgfJYaw"
      }
    },
    {
      "cell_type": "code",
      "source": [
        "# Setup\n",
        "%cd /content/diffvg/apps/\n",
        "\n",
        "# These arguments do not vary between layers\n",
        "\n",
        "random.seed(1234)\n",
        "torch.manual_seed(1234)\n",
        "\n",
        "# canvas size for optimization. This has to match the input to the loss functions (e.g. trained neural nets)\n",
        "canvas_width = canvas_height = 224 # ResNet expects 224px\n",
        "\n",
        "output_size = 2000 # pixel size for final rendered image (square image)\n",
        "\n",
        "# target image to be painted\n",
        "# Image will be resized to be square. Do not use .png images with transparency\n",
        "target_image_path = \"/content/line3.jpg\"\n",
        "\n",
        "# In case of CLIP loss, choose text prompt\n",
        "prompt = \"A balloon flying in the sky HD\"\n",
        "neg_prompt = \"A badly drawn sketch.\"\n",
        "neg_prompt_2 = \"Many ugly, messy drawings.\"\n",
        "use_negative = False # Use negative prompts\n",
        "\n",
        "# background for final rendering, currently white\n",
        "background_output = torch.ones(output_size, output_size,4)\n",
        "# background during optimization\n",
        "background = torch.ones(224,224,4) # background image of first layer, currently white\n",
        "\n",
        "\n",
        "lpips = LearnedPerceptualImagePatchSimilarity(net_type='squeeze').to(device) # you can use 'alex' or 'vgg' as well\n",
        "\n",
        "\n",
        "# The values of these arguments can vary layer by layer.\n",
        "# for example: num_paths = [50, 100, 150] -> Paint first layer with 50 strokes, second with 100 strokes, third with 150 strokes\n",
        "# the list size has to match the \"num_layers\" argument.\n",
        "# Lists of size 1 can be used as well, in this case, the same value is used for all layers.\n",
        "# e.g. num_layers = 2, num_paths = [100] -> Two layers with 100 strokes each\n",
        "\n",
        "num_layers = 1 # select number of layers (usually between 1 and 4) \n",
        "\n",
        "layer_args = dict(\n",
        "  # Choose loss functions. Weight = 0.0 means that the loss is not calculated.\n",
        "  Parameter_distance_weight = [0.0], # custom trained distance\n",
        "  L1_weight = [1.0], # L1 / MAE\n",
        "  L2_weight = [0.0], # L2 / MSE\n",
        "  LPIPS_weight = [0.0], # Perceptual\n",
        "  CLIP_weight = [0.0], # Text-similarity\n",
        "  edge_weight = [0.0], # gradient / edges similarity \n",
        "  SSIM_weight = [0.0], # structural similarity\n",
        "  orientation_weight = [0.0], # match stroke orientation (slow)\n",
        "  \n",
        "\n",
        "  curved_strokes = [False], # wheter to use curved or straight strokes\n",
        "\n",
        "  # ARGUMENTS. Feel free to play around with these, especially num_paths.\n",
        "  num_paths = [2], # number of strokes (i.e. paths)\n",
        "  num_iter = [1000], # number of iterations for optimization\n",
        "  max_width = [100], # maximum, minimum and initial stoke widths\n",
        "  min_width = [2], \n",
        "  init_width = [10], \n",
        "  stroke_length = [0.5], # lengths for initializing strokes\n",
        "\n",
        "  # optimizer learning rates:\n",
        "  color_lr = [0.01],\n",
        "  points_lr = [1.0],\n",
        "  widths_lr = [0.1],\n",
        ")\n"
      ],
      "metadata": {
        "id": "3e-oxbeQuqiL",
        "colab": {
          "base_uri": "https://localhost:8080/"
        },
        "outputId": "998dd798-76c7-4a8f-ef68-11b1996cd4c7"
      },
      "execution_count": null,
      "outputs": [
        {
          "output_type": "stream",
          "name": "stdout",
          "text": [
            "/content/diffvg/apps\n"
          ]
        }
      ]
    },
    {
      "cell_type": "markdown",
      "source": [
        "### Setup"
      ],
      "metadata": {
        "id": "Qy4dwwXLJkY5"
      }
    },
    {
      "cell_type": "code",
      "source": [
        "num_augs = 16\n",
        "\n",
        "# make sure all arguments have the right shape\n",
        "for arg in layer_args.values():\n",
        "  if len(arg) == 1:\n",
        "    arg *= num_layers\n",
        "  elif len(arg) != num_layers:\n",
        "    raise ValueError('Number of arguments does not match number of layers')\n",
        "\n",
        "# extract parameters from dict\n",
        "Parameter_distance_weight = layer_args[\"Parameter_distance_weight\"]\n",
        "L1_weight = layer_args[\"L1_weight\"]\n",
        "L2_weight = layer_args[\"L2_weight\"]\n",
        "LPIPS_weight = layer_args[\"LPIPS_weight\"]\n",
        "CLIP_weight = layer_args[\"CLIP_weight\"]\n",
        "edge_weight = layer_args[\"edge_weight\"]\n",
        "curved_strokes = layer_args[\"curved_strokes\"]\n",
        "num_paths = layer_args[\"num_paths\"]\n",
        "num_iter = layer_args[\"num_iter\"]\n",
        "max_width = layer_args[\"max_width\"] \n",
        "min_width = layer_args[\"min_width\"]\n",
        "init_width = layer_args[\"init_width\"]\n",
        "stroke_length = layer_args[\"stroke_length\"]\n",
        "color_lr = layer_args[\"color_lr\"]\n",
        "points_lr = layer_args[\"points_lr\"]\n",
        "widths_lr = layer_args[\"widths_lr\"]\n",
        "SSIM_weight = layer_args[\"SSIM_weight\"]\n",
        "orientation_weight = layer_args[\"orientation_weight\"]\n",
        "#tmp_weight = layer_args[\"tmp_weight\"]\n",
        "tmp_weight = LPIPS_weight\n",
        "\n",
        "# display target image to check if everything is correct\n",
        "target = torchvision.io.read_image(target_image_path)\n",
        "plt.imshow(target.cpu().permute(1,2,0))\n",
        "resize = torchvision.transforms.Resize([224,224])\n",
        "target_resized = resize(target)\n",
        "target_reshaped = target_resized.unsqueeze(0).to(device)\n",
        "target = target_reshaped / 255\n",
        "\n",
        "if model_ft:\n",
        "  model_ft.eval()\n",
        "\n",
        "pydiffvg.set_print_timing(False)\n",
        "\n",
        "# gamma value for diffvg\n",
        "gamma = 1.0\n",
        "\n",
        "# Use GPU if available\n",
        "pydiffvg.set_use_gpu(torch.cuda.is_available())\n",
        "device = torch.device('cuda')\n",
        "pydiffvg.set_device(device)\n",
        "\n",
        "# Image Augmentation Transformation\n",
        "augment_trans = transforms.Compose([\n",
        "    transforms.RandomPerspective(fill=1, p=1, distortion_scale=0.5),\n",
        "    transforms.RandomResizedCrop(canvas_width, scale=(0.7,0.9)),\n",
        "])\n",
        "\n",
        "\n",
        "if sum(map(abs, CLIP_weight)) > 0.0:\n",
        "  text_input = clip.tokenize(prompt).to(device)\n",
        "  text_input_neg1 = clip.tokenize(neg_prompt).to(device)\n",
        "  text_input_neg2 = clip.tokenize(neg_prompt_2).to(device)\n",
        "\n",
        "    # Calculate features\n",
        "  with torch.no_grad():\n",
        "      text_features = model.encode_text(text_input)\n",
        "      text_features_neg1 = model.encode_text(text_input_neg1)\n",
        "      text_features_neg2 = model.encode_text(text_input_neg2)\n",
        "\n",
        "# Thanks to Katherine Crowson for this. \n",
        "# In the CLIPDraw code used to generate examples, we don't normalize images\n",
        "# before passing into CLIP, but really you should. Turn this to True to do that.\n",
        "use_normalized_clip = True\n",
        "\n",
        "if use_normalized_clip:\n",
        "    augment_trans_clip = transforms.Compose([\n",
        "    transforms.RandomPerspective(fill=1, p=1, distortion_scale=0.5),\n",
        "    transforms.RandomResizedCrop(224, scale=(0.7,0.9)),\n",
        "    transforms.Normalize((0.48145466, 0.4578275, 0.40821073), (0.26862954, 0.26130258, 0.27577711))\n",
        "])\n",
        "    \n",
        "\n",
        "# list of layers where rendered images will be saved\n",
        "img_layers = [background] # low res\n",
        "img_layers_high = [background_output] # high res\n",
        "layers = []\n",
        "\n",
        "# history of losses for plotting\n",
        "L1_hist = []\n",
        "L2_hist = []\n",
        "param_hist = []\n",
        "clip_hist = []\n",
        "edge_hist = []\n",
        "orientation_hist = []\n",
        "SSIM_hist = []\n",
        "tmp_hist = []"
      ],
      "metadata": {
        "id": "QRERrlST8PKF",
        "colab": {
          "base_uri": "https://localhost:8080/",
          "height": 269
        },
        "outputId": "3e8a1fdf-10af-4049-ad12-1b5348c2ccb5"
      },
      "execution_count": null,
      "outputs": [
        {
          "output_type": "display_data",
          "data": {
            "text/plain": [
              "<Figure size 432x288 with 1 Axes>"
            ],
            "image/png": "[encoded data removed]"
          },
          "metadata": {
            "needs_background": "light"
          }
        }
      ]
    },
    {
      "cell_type": "code",
      "execution_count": null,
      "metadata": {
        "colab": {
          "base_uri": "https://localhost:8080/",
          "height": 1000
        },
        "id": "MEY5ISHFkMAX",
        "outputId": "9f506dd7-cfa0-4135-9754-19cfaad70b43"
      },
      "outputs": [
        {
          "output_type": "display_data",
          "data": {
            "image/jpeg": "[encoded data removed]",
            "text/plain": [
              "<IPython.core.display.Image object>"
            ]
          },
          "metadata": {}
        },
        {
          "output_type": "stream",
          "name": "stdout",
          "text": [
            "render loss: 0.06791667640209198\n",
            " l1:  0.06791667640209198 \n",
            " l2:  0.0 \n",
            " param:  0.0 \n",
            " clip: 0.0 \n",
            " edge: 0.0 \n",
            " orientation: 0.0 \n",
            " SSIM: 0.0 \n",
            " TMP: 0.0\n",
            "iteration: 0\n",
            "\n"
          ]
        },
        {
          "output_type": "display_data",
          "data": {
            "image/jpeg": "[encoded data removed]",
            "text/plain": [
              "<IPython.core.display.Image object>"
            ]
          },
          "metadata": {}
        },
        {
          "output_type": "stream",
          "name": "stdout",
          "text": [
            "render loss: 0.06707517802715302\n",
            " l1:  0.06707517802715302 \n",
            " l2:  0.0 \n",
            " param:  0.0 \n",
            " clip: 0.0 \n",
            " edge: 0.0 \n",
            " orientation: 0.0 \n",
            " SSIM: 0.0 \n",
            " TMP: 0.0\n",
            "iteration: 10\n",
            "\n"
          ]
        },
        {
          "output_type": "display_data",
          "data": {
            "image/jpeg": "[encoded data removed]",
            "text/plain": [
              "<IPython.core.display.Image object>"
            ]
          },
          "metadata": {}
        },
        {
          "output_type": "stream",
          "name": "stdout",
          "text": [
            "render loss: 0.0663975328207016\n",
            " l1:  0.0663975328207016 \n",
            " l2:  0.0 \n",
            " param:  0.0 \n",
            " clip: 0.0 \n",
            " edge: 0.0 \n",
            " orientation: 0.0 \n",
            " SSIM: 0.0 \n",
            " TMP: 0.0\n",
            "iteration: 20\n",
            "\n"
          ]
        },
        {
          "output_type": "display_data",
          "data": {
            "image/jpeg": "[encoded data removed]",
            "text/plain": [
              "<IPython.core.display.Image object>"
            ]
          },
          "metadata": {}
        },
        {
          "output_type": "stream",
          "name": "stdout",
          "text": [
            "render loss: 0.06404774636030197\n",
            " l1:  0.06404774636030197 \n",
            " l2:  0.0 \n",
            " param:  0.0 \n",
            " clip: 0.0 \n",
            " edge: 0.0 \n",
            " orientation: 0.0 \n",
            " SSIM: 0.0 \n",
            " TMP: 0.0\n",
            "iteration: 30\n",
            "\n"
          ]
        },
        {
          "output_type": "display_data",
          "data": {
            "image/jpeg": "[encoded data removed]",
            "text/plain": [
              "<IPython.core.display.Image object>"
            ]
          },
          "metadata": {}
        },
        {
          "output_type": "stream",
          "name": "stdout",
          "text": [
            "render loss: 0.05924532935023308\n",
            " l1:  0.05924532935023308 \n",
            " l2:  0.0 \n",
            " param:  0.0 \n",
            " clip: 0.0 \n",
            " edge: 0.0 \n",
            " orientation: 0.0 \n",
            " SSIM: 0.0 \n",
            " TMP: 0.0\n",
            "iteration: 40\n",
            "\n"
          ]
        },
        {
          "output_type": "display_data",
          "data": {
            "image/jpeg": "[encoded data removed]",
            "text/plain": [
              "<IPython.core.display.Image object>"
            ]
          },
          "metadata": {}
        },
        {
          "output_type": "stream",
          "name": "stdout",
          "text": [
            "render loss: 0.05147812142968178\n",
            " l1:  0.05147812142968178 \n",
            " l2:  0.0 \n",
            " param:  0.0 \n",
            " clip: 0.0 \n",
            " edge: 0.0 \n",
            " orientation: 0.0 \n",
            " SSIM: 0.0 \n",
            " TMP: 0.0\n",
            "iteration: 50\n",
            "\n"
          ]
        },
        {
          "output_type": "display_data",
          "data": {
            "image/jpeg": "[encoded data removed]",
            "text/plain": [
              "<IPython.core.display.Image object>"
            ]
          },
          "metadata": {}
        },
        {
          "output_type": "stream",
          "name": "stdout",
          "text": [
            "render loss: 0.04760412499308586\n",
            " l1:  0.04760412499308586 \n",
            " l2:  0.0 \n",
            " param:  0.0 \n",
            " clip: 0.0 \n",
            " edge: 0.0 \n",
            " orientation: 0.0 \n",
            " SSIM: 0.0 \n",
            " TMP: 0.0\n",
            "iteration: 60\n",
            "\n"
          ]
        },
        {
          "output_type": "display_data",
          "data": {
            "image/jpeg": "[encoded data removed]",
            "text/plain": [
              "<IPython.core.display.Image object>"
            ]
          },
          "metadata": {}
        },
        {
          "output_type": "stream",
          "name": "stdout",
          "text": [
            "render loss: 0.046133242547512054\n",
            " l1:  0.046133242547512054 \n",
            " l2:  0.0 \n",
            " param:  0.0 \n",
            " clip: 0.0 \n",
            " edge: 0.0 \n",
            " orientation: 0.0 \n",
            " SSIM: 0.0 \n",
            " TMP: 0.0\n",
            "iteration: 70\n",
            "\n"
          ]
        },
        {
          "output_type": "display_data",
          "data": {
            "image/jpeg": "[encoded data removed]",
            "text/plain": [
              "<IPython.core.display.Image object>"
            ]
          },
          "metadata": {}
        },
        {
          "output_type": "stream",
          "name": "stdout",
          "text": [
            "render loss: 0.045525141060352325\n",
            " l1:  0.045525141060352325 \n",
            " l2:  0.0 \n",
            " param:  0.0 \n",
            " clip: 0.0 \n",
            " edge: 0.0 \n",
            " orientation: 0.0 \n",
            " SSIM: 0.0 \n",
            " TMP: 0.0\n",
            "iteration: 80\n",
            "\n"
          ]
        },
        {
          "output_type": "display_data",
          "data": {
            "image/jpeg": "[encoded data removed]",
            "text/plain": [
              "<IPython.core.display.Image object>"
            ]
          },
          "metadata": {}
        },
        {
          "output_type": "stream",
          "name": "stdout",
          "text": [
            "render loss: 0.0453001894056797\n",
            " l1:  0.0453001894056797 \n",
            " l2:  0.0 \n",
            " param:  0.0 \n",
            " clip: 0.0 \n",
            " edge: 0.0 \n",
            " orientation: 0.0 \n",
            " SSIM: 0.0 \n",
            " TMP: 0.0\n",
            "iteration: 90\n",
            "\n"
          ]
        },
        {
          "output_type": "display_data",
          "data": {
            "image/jpeg": "[encoded data removed]",
            "text/plain": [
              "<IPython.core.display.Image object>"
            ]
          },
          "metadata": {}
        },
        {
          "output_type": "stream",
          "name": "stdout",
          "text": [
            "render loss: 0.04471518471837044\n",
            " l1:  0.04471518471837044 \n",
            " l2:  0.0 \n",
            " param:  0.0 \n",
            " clip: 0.0 \n",
            " edge: 0.0 \n",
            " orientation: 0.0 \n",
            " SSIM: 0.0 \n",
            " TMP: 0.0\n",
            "iteration: 100\n",
            "\n"
          ]
        },
        {
          "output_type": "display_data",
          "data": {
            "image/jpeg": "[encoded data removed]",
            "text/plain": [
              "<IPython.core.display.Image object>"
            ]
          },
          "metadata": {}
        },
        {
          "output_type": "stream",
          "name": "stdout",
          "text": [
            "render loss: 0.044033508747816086\n",
            " l1:  0.044033508747816086 \n",
            " l2:  0.0 \n",
            " param:  0.0 \n",
            " clip: 0.0 \n",
            " edge: 0.0 \n",
            " orientation: 0.0 \n",
            " SSIM: 0.0 \n",
            " TMP: 0.0\n",
            "iteration: 110\n",
            "\n"
          ]
        },
        {
          "output_type": "display_data",
          "data": {
            "image/jpeg": "[encoded data removed]",
            "text/plain": [
              "<IPython.core.display.Image object>"
            ]
          },
          "metadata": {}
        },
        {
          "output_type": "stream",
          "name": "stdout",
          "text": [
            "render loss: 0.04252634570002556\n",
            " l1:  0.04252634570002556 \n",
            " l2:  0.0 \n",
            " param:  0.0 \n",
            " clip: 0.0 \n",
            " edge: 0.0 \n",
            " orientation: 0.0 \n",
            " SSIM: 0.0 \n",
            " TMP: 0.0\n",
            "iteration: 120\n",
            "\n"
          ]
        },
        {
          "output_type": "display_data",
          "data": {
            "image/jpeg": "[encoded data removed]",
            "text/plain": [
              "<IPython.core.display.Image object>"
            ]
          },
          "metadata": {}
        },
        {
          "output_type": "stream",
          "name": "stdout",
          "text": [
            "render loss: 0.040125612169504166\n",
            " l1:  0.040125612169504166 \n",
            " l2:  0.0 \n",
            " param:  0.0 \n",
            " clip: 0.0 \n",
            " edge: 0.0 \n",
            " orientation: 0.0 \n",
            " SSIM: 0.0 \n",
            " TMP: 0.0\n",
            "iteration: 130\n",
            "\n"
          ]
        },
        {
          "output_type": "display_data",
          "data": {
            "image/jpeg": "[encoded data removed]",
            "text/plain": [
              "<IPython.core.display.Image object>"
            ]
          },
          "metadata": {}
        },
        {
          "output_type": "stream",
          "name": "stdout",
          "text": [
            "render loss: 0.03764434531331062\n",
            " l1:  0.03764434531331062 \n",
            " l2:  0.0 \n",
            " param:  0.0 \n",
            " clip: 0.0 \n",
            " edge: 0.0 \n",
            " orientation: 0.0 \n",
            " SSIM: 0.0 \n",
            " TMP: 0.0\n",
            "iteration: 140\n",
            "\n"
          ]
        },
        {
          "output_type": "display_data",
          "data": {
            "image/jpeg": "[encoded data removed]",
            "text/plain": [
              "<IPython.core.display.Image object>"
            ]
          },
          "metadata": {}
        },
        {
          "output_type": "stream",
          "name": "stdout",
          "text": [
            "render loss: 0.03509770706295967\n",
            " l1:  0.03509770706295967 \n",
            " l2:  0.0 \n",
            " param:  0.0 \n",
            " clip: 0.0 \n",
            " edge: 0.0 \n",
            " orientation: 0.0 \n",
            " SSIM: 0.0 \n",
            " TMP: 0.0\n",
            "iteration: 150\n",
            "\n"
          ]
        },
        {
          "output_type": "display_data",
          "data": {
            "image/jpeg": "[encoded data removed]",
            "text/plain": [
              "<IPython.core.display.Image object>"
            ]
          },
          "metadata": {}
        },
        {
          "output_type": "stream",
          "name": "stdout",
          "text": [
            "render loss: 0.032869912683963776\n",
            " l1:  0.032869912683963776 \n",
            " l2:  0.0 \n",
            " param:  0.0 \n",
            " clip: 0.0 \n",
            " edge: 0.0 \n",
            " orientation: 0.0 \n",
            " SSIM: 0.0 \n",
            " TMP: 0.0\n",
            "iteration: 160\n",
            "\n"
          ]
        },
        {
          "output_type": "display_data",
          "data": {
            "image/jpeg": "[encoded data removed]",
            "text/plain": [
              "<IPython.core.display.Image object>"
            ]
          },
          "metadata": {}
        },
        {
          "output_type": "stream",
          "name": "stdout",
          "text": [
            "render loss: 0.03338645026087761\n",
            " l1:  0.03338645026087761 \n",
            " l2:  0.0 \n",
            " param:  0.0 \n",
            " clip: 0.0 \n",
            " edge: 0.0 \n",
            " orientation: 0.0 \n",
            " SSIM: 0.0 \n",
            " TMP: 0.0\n",
            "iteration: 170\n",
            "\n"
          ]
        },
        {
          "output_type": "display_data",
          "data": {
            "image/jpeg": "[encoded data removed]",
            "text/plain": [
              "<IPython.core.display.Image object>"
            ]
          },
          "metadata": {}
        },
        {
          "output_type": "stream",
          "name": "stdout",
          "text": [
            "render loss: 0.03285795822739601\n",
            " l1:  0.03285795822739601 \n",
            " l2:  0.0 \n",
            " param:  0.0 \n",
            " clip: 0.0 \n",
            " edge: 0.0 \n",
            " orientation: 0.0 \n",
            " SSIM: 0.0 \n",
            " TMP: 0.0\n",
            "iteration: 180\n",
            "\n"
          ]
        },
        {
          "output_type": "display_data",
          "data": {
            "image/jpeg": "[encoded data removed]",
            "text/plain": [
              "<IPython.core.display.Image object>"
            ]
          },
          "metadata": {}
        },
        {
          "output_type": "stream",
          "name": "stdout",
          "text": [
            "render loss: 0.03270890191197395\n",
            " l1:  0.03270890191197395 \n",
            " l2:  0.0 \n",
            " param:  0.0 \n",
            " clip: 0.0 \n",
            " edge: 0.0 \n",
            " orientation: 0.0 \n",
            " SSIM: 0.0 \n",
            " TMP: 0.0\n",
            "iteration: 190\n",
            "\n"
          ]
        },
        {
          "output_type": "display_data",
          "data": {
            "image/jpeg": "[encoded data removed]",
            "text/plain": [
              "<IPython.core.display.Image object>"
            ]
          },
          "metadata": {}
        },
        {
          "output_type": "stream",
          "name": "stdout",
          "text": [
            "render loss: 0.03257690370082855\n",
            " l1:  0.03257690370082855 \n",
            " l2:  0.0 \n",
            " param:  0.0 \n",
            " clip: 0.0 \n",
            " edge: 0.0 \n",
            " orientation: 0.0 \n",
            " SSIM: 0.0 \n",
            " TMP: 0.0\n",
            "iteration: 200\n",
            "\n"
          ]
        },
        {
          "output_type": "display_data",
          "data": {
            "image/jpeg": "[encoded data removed]",
            "text/plain": [
              "<IPython.core.display.Image object>"
            ]
          },
          "metadata": {}
        },
        {
          "output_type": "stream",
          "name": "stdout",
          "text": [
            "render loss: 0.03272275999188423\n",
            " l1:  0.03272275999188423 \n",
            " l2:  0.0 \n",
            " param:  0.0 \n",
            " clip: 0.0 \n",
            " edge: 0.0 \n",
            " orientation: 0.0 \n",
            " SSIM: 0.0 \n",
            " TMP: 0.0\n",
            "iteration: 210\n",
            "\n"
          ]
        },
        {
          "output_type": "display_data",
          "data": {
            "image/jpeg": "[encoded data removed]",
            "text/plain": [
              "<IPython.core.display.Image object>"
            ]
          },
          "metadata": {}
        },
        {
          "output_type": "stream",
          "name": "stdout",
          "text": [
            "render loss: 0.03267071023583412\n",
            " l1:  0.03267071023583412 \n",
            " l2:  0.0 \n",
            " param:  0.0 \n",
            " clip: 0.0 \n",
            " edge: 0.0 \n",
            " orientation: 0.0 \n",
            " SSIM: 0.0 \n",
            " TMP: 0.0\n",
            "iteration: 220\n",
            "\n"
          ]
        },
        {
          "output_type": "display_data",
          "data": {
            "image/jpeg": "[encoded data removed]",
            "text/plain": [
              "<IPython.core.display.Image object>"
            ]
          },
          "metadata": {}
        },
        {
          "output_type": "stream",
          "name": "stdout",
          "text": [
            "render loss: 0.03279856592416763\n",
            " l1:  0.03279856592416763 \n",
            " l2:  0.0 \n",
            " param:  0.0 \n",
            " clip: 0.0 \n",
            " edge: 0.0 \n",
            " orientation: 0.0 \n",
            " SSIM: 0.0 \n",
            " TMP: 0.0\n",
            "iteration: 230\n",
            "\n"
          ]
        },
        {
          "output_type": "display_data",
          "data": {
            "image/jpeg": "[encoded data removed]",
            "text/plain": [
              "<IPython.core.display.Image object>"
            ]
          },
          "metadata": {}
        },
        {
          "output_type": "stream",
          "name": "stdout",
          "text": [
            "render loss: 0.032645635306835175\n",
            " l1:  0.032645635306835175 \n",
            " l2:  0.0 \n",
            " param:  0.0 \n",
            " clip: 0.0 \n",
            " edge: 0.0 \n",
            " orientation: 0.0 \n",
            " SSIM: 0.0 \n",
            " TMP: 0.0\n",
            "iteration: 240\n",
            "\n"
          ]
        },
        {
          "output_type": "display_data",
          "data": {
            "image/jpeg": "[encoded data removed]",
            "text/plain": [
              "<IPython.core.display.Image object>"
            ]
          },
          "metadata": {}
        },
        {
          "output_type": "stream",
          "name": "stdout",
          "text": [
            "render loss: 0.03272988274693489\n",
            " l1:  0.03272988274693489 \n",
            " l2:  0.0 \n",
            " param:  0.0 \n",
            " clip: 0.0 \n",
            " edge: 0.0 \n",
            " orientation: 0.0 \n",
            " SSIM: 0.0 \n",
            " TMP: 0.0\n",
            "iteration: 250\n",
            "\n"
          ]
        },
        {
          "output_type": "display_data",
          "data": {
            "image/jpeg": "[encoded data removed]",
            "text/plain": [
              "<IPython.core.display.Image object>"
            ]
          },
          "metadata": {}
        },
        {
          "output_type": "stream",
          "name": "stdout",
          "text": [
            "render loss: 0.03269415721297264\n",
            " l1:  0.03269415721297264 \n",
            " l2:  0.0 \n",
            " param:  0.0 \n",
            " clip: 0.0 \n",
            " edge: 0.0 \n",
            " orientation: 0.0 \n",
            " SSIM: 0.0 \n",
            " TMP: 0.0\n",
            "iteration: 260\n",
            "\n"
          ]
        },
        {
          "output_type": "display_data",
          "data": {
            "image/jpeg": "[encoded data removed]",
            "text/plain": [
              "<IPython.core.display.Image object>"
            ]
          },
          "metadata": {}
        },
        {
          "output_type": "stream",
          "name": "stdout",
          "text": [
            "render loss: 0.032654982060194016\n",
            " l1:  0.032654982060194016 \n",
            " l2:  0.0 \n",
            " param:  0.0 \n",
            " clip: 0.0 \n",
            " edge: 0.0 \n",
            " orientation: 0.0 \n",
            " SSIM: 0.0 \n",
            " TMP: 0.0\n",
            "iteration: 270\n",
            "\n"
          ]
        },
        {
          "output_type": "display_data",
          "data": {
            "image/jpeg": "[encoded data removed]",
            "text/plain": [
              "<IPython.core.display.Image object>"
            ]
          },
          "metadata": {}
        },
        {
          "output_type": "stream",
          "name": "stdout",
          "text": [
            "render loss: 0.03261301666498184\n",
            " l1:  0.03261301666498184 \n",
            " l2:  0.0 \n",
            " param:  0.0 \n",
            " clip: 0.0 \n",
            " edge: 0.0 \n",
            " orientation: 0.0 \n",
            " SSIM: 0.0 \n",
            " TMP: 0.0\n",
            "iteration: 280\n",
            "\n"
          ]
        },
        {
          "output_type": "display_data",
          "data": {
            "image/jpeg": "[encoded data removed]",
            "text/plain": [
              "<IPython.core.display.Image object>"
            ]
          },
          "metadata": {}
        },
        {
          "output_type": "stream",
          "name": "stdout",
          "text": [
            "render loss: 0.03260662034153938\n",
            " l1:  0.03260662034153938 \n",
            " l2:  0.0 \n",
            " param:  0.0 \n",
            " clip: 0.0 \n",
            " edge: 0.0 \n",
            " orientation: 0.0 \n",
            " SSIM: 0.0 \n",
            " TMP: 0.0\n",
            "iteration: 290\n",
            "\n"
          ]
        },
        {
          "output_type": "display_data",
          "data": {
            "image/jpeg": "[encoded data removed]",
            "text/plain": [
              "<IPython.core.display.Image object>"
            ]
          },
          "metadata": {}
        },
        {
          "output_type": "stream",
          "name": "stdout",
          "text": [
            "render loss: 0.03276250883936882\n",
            " l1:  0.03276250883936882 \n",
            " l2:  0.0 \n",
            " param:  0.0 \n",
            " clip: 0.0 \n",
            " edge: 0.0 \n",
            " orientation: 0.0 \n",
            " SSIM: 0.0 \n",
            " TMP: 0.0\n",
            "iteration: 300\n",
            "\n"
          ]
        },
        {
          "output_type": "display_data",
          "data": {
            "image/jpeg": "[encoded data removed]",
            "text/plain": [
              "<IPython.core.display.Image object>"
            ]
          },
          "metadata": {}
        },
        {
          "output_type": "stream",
          "name": "stdout",
          "text": [
            "render loss: 0.03257528692483902\n",
            " l1:  0.03257528692483902 \n",
            " l2:  0.0 \n",
            " param:  0.0 \n",
            " clip: 0.0 \n",
            " edge: 0.0 \n",
            " orientation: 0.0 \n",
            " SSIM: 0.0 \n",
            " TMP: 0.0\n",
            "iteration: 310\n",
            "\n"
          ]
        },
        {
          "output_type": "display_data",
          "data": {
            "image/jpeg": "[encoded data removed]",
            "text/plain": [
              "<IPython.core.display.Image object>"
            ]
          },
          "metadata": {}
        },
        {
          "output_type": "stream",
          "name": "stdout",
          "text": [
            "render loss: 0.03264781832695007\n",
            " l1:  0.03264781832695007 \n",
            " l2:  0.0 \n",
            " param:  0.0 \n",
            " clip: 0.0 \n",
            " edge: 0.0 \n",
            " orientation: 0.0 \n",
            " SSIM: 0.0 \n",
            " TMP: 0.0\n",
            "iteration: 320\n",
            "\n"
          ]
        },
        {
          "output_type": "display_data",
          "data": {
            "image/jpeg": "[encoded data removed]",
            "text/plain": [
              "<IPython.core.display.Image object>"
            ]
          },
          "metadata": {}
        },
        {
          "output_type": "stream",
          "name": "stdout",
          "text": [
            "render loss: 0.032674629241228104\n",
            " l1:  0.032674629241228104 \n",
            " l2:  0.0 \n",
            " param:  0.0 \n",
            " clip: 0.0 \n",
            " edge: 0.0 \n",
            " orientation: 0.0 \n",
            " SSIM: 0.0 \n",
            " TMP: 0.0\n",
            "iteration: 330\n",
            "\n"
          ]
        },
        {
          "output_type": "error",
          "ename": "KeyboardInterrupt",
          "evalue": "ignored",
          "traceback": [
            "\u001b[0;31m---------------------------------------------------------------------------\u001b[0m",
            "\u001b[0;31mKeyboardInterrupt\u001b[0m                         Traceback (most recent call last)",
            "\u001b[0;32m<ipython-input-59-1608cd8922d1>\u001b[0m in \u001b[0;36m<module>\u001b[0;34m\u001b[0m\n\u001b[1;32m    160\u001b[0m \u001b[0;34m\u001b[0m\u001b[0m\n\u001b[1;32m    161\u001b[0m       \u001b[0;31m# Backpropagate the gradients.\u001b[0m\u001b[0;34m\u001b[0m\u001b[0;34m\u001b[0m\u001b[0;34m\u001b[0m\u001b[0m\n\u001b[0;32m--> 162\u001b[0;31m       \u001b[0mloss\u001b[0m\u001b[0;34m.\u001b[0m\u001b[0mbackward\u001b[0m\u001b[0;34m(\u001b[0m\u001b[0;34m)\u001b[0m\u001b[0;34m\u001b[0m\u001b[0;34m\u001b[0m\u001b[0m\n\u001b[0m\u001b[1;32m    163\u001b[0m \u001b[0;34m\u001b[0m\u001b[0m\n\u001b[1;32m    164\u001b[0m       \u001b[0mL1_hist\u001b[0m\u001b[0;34m.\u001b[0m\u001b[0mappend\u001b[0m\u001b[0;34m(\u001b[0m\u001b[0mL1_loss\u001b[0m\u001b[0;34m.\u001b[0m\u001b[0mdetach\u001b[0m\u001b[0;34m(\u001b[0m\u001b[0;34m)\u001b[0m\u001b[0;34m.\u001b[0m\u001b[0mcpu\u001b[0m\u001b[0;34m(\u001b[0m\u001b[0;34m)\u001b[0m\u001b[0;34m.\u001b[0m\u001b[0mitem\u001b[0m\u001b[0;34m(\u001b[0m\u001b[0;34m)\u001b[0m\u001b[0;34m)\u001b[0m\u001b[0;34m\u001b[0m\u001b[0;34m\u001b[0m\u001b[0m\n",
            "\u001b[0;32m/usr/local/lib/python3.7/dist-packages/torch/_tensor.py\u001b[0m in \u001b[0;36mbackward\u001b[0;34m(self, gradient, retain_graph, create_graph, inputs)\u001b[0m\n\u001b[1;32m    394\u001b[0m                 \u001b[0mcreate_graph\u001b[0m\u001b[0;34m=\u001b[0m\u001b[0mcreate_graph\u001b[0m\u001b[0;34m,\u001b[0m\u001b[0;34m\u001b[0m\u001b[0;34m\u001b[0m\u001b[0m\n\u001b[1;32m    395\u001b[0m                 inputs=inputs)\n\u001b[0;32m--> 396\u001b[0;31m         \u001b[0mtorch\u001b[0m\u001b[0;34m.\u001b[0m\u001b[0mautograd\u001b[0m\u001b[0;34m.\u001b[0m\u001b[0mbackward\u001b[0m\u001b[0;34m(\u001b[0m\u001b[0mself\u001b[0m\u001b[0;34m,\u001b[0m \u001b[0mgradient\u001b[0m\u001b[0;34m,\u001b[0m \u001b[0mretain_graph\u001b[0m\u001b[0;34m,\u001b[0m \u001b[0mcreate_graph\u001b[0m\u001b[0;34m,\u001b[0m \u001b[0minputs\u001b[0m\u001b[0;34m=\u001b[0m\u001b[0minputs\u001b[0m\u001b[0;34m)\u001b[0m\u001b[0;34m\u001b[0m\u001b[0;34m\u001b[0m\u001b[0m\n\u001b[0m\u001b[1;32m    397\u001b[0m \u001b[0;34m\u001b[0m\u001b[0m\n\u001b[1;32m    398\u001b[0m     \u001b[0;32mdef\u001b[0m \u001b[0mregister_hook\u001b[0m\u001b[0;34m(\u001b[0m\u001b[0mself\u001b[0m\u001b[0;34m,\u001b[0m \u001b[0mhook\u001b[0m\u001b[0;34m)\u001b[0m\u001b[0;34m:\u001b[0m\u001b[0;34m\u001b[0m\u001b[0;34m\u001b[0m\u001b[0m\n",
            "\u001b[0;32m/usr/local/lib/python3.7/dist-packages/torch/autograd/__init__.py\u001b[0m in \u001b[0;36mbackward\u001b[0;34m(tensors, grad_tensors, retain_graph, create_graph, grad_variables, inputs)\u001b[0m\n\u001b[1;32m    173\u001b[0m     Variable._execution_engine.run_backward(  # Calls into the C++ engine to run the backward pass\n\u001b[1;32m    174\u001b[0m         \u001b[0mtensors\u001b[0m\u001b[0;34m,\u001b[0m \u001b[0mgrad_tensors_\u001b[0m\u001b[0;34m,\u001b[0m \u001b[0mretain_graph\u001b[0m\u001b[0;34m,\u001b[0m \u001b[0mcreate_graph\u001b[0m\u001b[0;34m,\u001b[0m \u001b[0minputs\u001b[0m\u001b[0;34m,\u001b[0m\u001b[0;34m\u001b[0m\u001b[0;34m\u001b[0m\u001b[0m\n\u001b[0;32m--> 175\u001b[0;31m         allow_unreachable=True, accumulate_grad=True)  # Calls into the C++ engine to run the backward pass\n\u001b[0m\u001b[1;32m    176\u001b[0m \u001b[0;34m\u001b[0m\u001b[0m\n\u001b[1;32m    177\u001b[0m def grad(\n",
            "\u001b[0;31mKeyboardInterrupt\u001b[0m: "
          ]
        }
      ],
      "source": [
        "#@title Curve Optimizer {vertical-output: true}\n",
        "\n",
        "for layer_index in range(num_layers):\n",
        "\n",
        "  # Initialize Random Curves for current layer\n",
        "  shapes = []\n",
        "  shape_groups = []\n",
        "  for i in range(num_paths[layer_index]):\n",
        "\n",
        "    if curved_strokes[layer_index]:\n",
        "      num_segments = 1 #random.randint(1, 3)\n",
        "      num_control_points = torch.zeros(num_segments, dtype = torch.int32) + 2\n",
        "      points = []\n",
        "      p0 = (random.random(), random.random())\n",
        "      points.append(p0)\n",
        "      for j in range(num_segments):\n",
        "          radius = stroke_length[layer_index]\n",
        "          p1 = (p0[0] + radius * (random.random() - 0.5), p0[1] + radius * (random.random() - 0.5))\n",
        "          p2 = (p1[0] + radius * (random.random() - 0.5), p1[1] + radius * (random.random() - 0.5))\n",
        "          p3 = (p2[0] + radius * (random.random() - 0.5), p2[1] + radius * (random.random() - 0.5))\n",
        "          points.append(p1)\n",
        "          points.append(p2)\n",
        "          points.append(p3)\n",
        "          p0 = p3\n",
        "\n",
        "    else: # lines instead of strokes\n",
        "      num_segments = 1 #random.randint(1, 3)\n",
        "      num_control_points = torch.tensor((0,0))\n",
        "      points = []\n",
        "      p0 = (random.random(), random.random())\n",
        "      points.append(p0)\n",
        "      for j in range(num_segments):\n",
        "          radius = stroke_length[layer_index]\n",
        "          p1 = (p0[0] + radius * (random.random() - 0.5), p0[1] + radius * (random.random() - 0.5))\n",
        "          points.append(p1)\n",
        "\n",
        "    points = torch.tensor(points)\n",
        "    points[:, 0] *= canvas_width\n",
        "    points[:, 1] *= canvas_height\n",
        "    path = pydiffvg.Path(num_control_points = num_control_points, points = points, stroke_width = torch.tensor(init_width[layer_index], dtype=torch.float64), is_closed = False)\n",
        "    shapes.append(path)\n",
        "    path_group = pydiffvg.ShapeGroup(shape_ids = torch.tensor([len(shapes) - 1]), fill_color = None, stroke_color = torch.tensor([random.random(), random.random(), random.random(), random.random()]))\n",
        "    shape_groups.append(path_group)\n",
        "\n",
        "\n",
        "  # Just some diffvg setup\n",
        "  scene_args = pydiffvg.RenderFunction.serialize_scene(\\\n",
        "      canvas_width, canvas_height, shapes, shape_groups)\n",
        "  render = pydiffvg.RenderFunction.apply\n",
        "  img = render(canvas_width, canvas_height, 2, 2, 0, None, *scene_args)\n",
        "  points_vars = []\n",
        "  stroke_width_vars = []\n",
        "  color_vars = []\n",
        "  for path in shapes:\n",
        "      path.points.requires_grad = True\n",
        "      points_vars.append(path.points)\n",
        "      path.stroke_width.requires_grad = True\n",
        "      stroke_width_vars.append(path.stroke_width)\n",
        "  for group in shape_groups:\n",
        "      group.stroke_color.requires_grad = True\n",
        "      color_vars.append(group.stroke_color)\n",
        "\n",
        "  # Optimizers\n",
        "  points_optim = torch.optim.Adam(points_vars, points_lr[layer_index])\n",
        "  width_optim = torch.optim.Adam(stroke_width_vars, widths_lr[layer_index])\n",
        "  color_optim = torch.optim.Adam(color_vars, color_lr[layer_index])\n",
        "\n",
        "  # Run the main optimization loop\n",
        "  for t in range(num_iter[layer_index]):\n",
        "\n",
        "      # Anneal learning rate (makes videos look cleaner)\n",
        "      #anneal_lr = True\n",
        "      #if anneal_lr:\n",
        "      #  if t == int(args.num_iter[layer_index] * 0.5):\n",
        "      #    for g in points_optim.param_groups:\n",
        "      #        g['lr'] = 0.4\n",
        "      #  if t == int(args.num_iter[layer_index] * 0.75):\n",
        "      #    for g in points_optim.param_groups:\n",
        "      #        g['lr'] = 0.1\n",
        "      \n",
        "      points_optim.zero_grad()\n",
        "      width_optim.zero_grad()\n",
        "      color_optim.zero_grad()\n",
        "      scene_args = pydiffvg.RenderFunction.serialize_scene(\\\n",
        "          canvas_width, canvas_height, shapes, shape_groups)\n",
        "      #print(img_layers[layer].shape)\n",
        "\n",
        "      # low resolution render for optimization\n",
        "      img = render(canvas_width, canvas_height, 2, 2, t, img_layers[layer_index], *scene_args)\n",
        "      img_copy = img.detach().clone() # copy layer to use as background later\n",
        "      img = img[:, :, 3:4] * img[:, :, :3] + torch.ones(img.shape[0], img.shape[1], 3, device = pydiffvg.get_device()) * (1 - img[:, :, 3:4]) #remove alpha channel\n",
        "      if t % 5 == 0:\n",
        "          pydiffvg.imwrite(img.cpu(), '/content/res/iter_{}.png'.format(int(t/5)), gamma=gamma)\n",
        "      img = img[:, :, :3]\n",
        "      img = img.unsqueeze(0)\n",
        "      img = img.permute(0, 3, 1, 2) # NHWC -> NCHW\n",
        "      \n",
        "      # Initialize losses\n",
        "      L1_loss = torch.tensor(0.0).to(device)\n",
        "      L2_loss = torch.tensor(0.0).to(device)\n",
        "      parameter_loss = torch.tensor(0.0).to(device)\n",
        "      CLIP_loss = torch.tensor(0.0).to(device)\n",
        "      edge_loss = torch.tensor(0.0).to(device)\n",
        "      SSIM_loss = torch.tensor(0.0).to(device)\n",
        "      orientation_loss = torch.tensor(0.0).to(device)\n",
        "      tmp_loss = torch.tensor(0.0).to(device)\n",
        "\n",
        "      # CLIP similarity / loss\n",
        "      if CLIP_weight[layer_index] != 0.0:\n",
        "        img_augs = []\n",
        "        for n in range(num_augs):\n",
        "            img_augs.append(augment_trans_clip(img))\n",
        "        im_batch = torch.cat(img_augs)\n",
        "        image_features = model.encode_image(im_batch)\n",
        "        for n in range(num_augs):\n",
        "            CLIP_loss -= torch.cosine_similarity(text_features, image_features[n:n+1], dim=1).squeeze() * CLIP_weight[layer_index] * (1/num_augs)\n",
        "            if use_negative:\n",
        "                CLIP_loss += torch.cosine_similarity(text_features_neg1, image_features[n:n+1], dim=1).squeeze() * 0.3 * CLIP_weight[layer_index] * (1/num_augs)\n",
        "                CLIP_loss += torch.cosine_similarity(text_features_neg2, image_features[n:n+1], dim=1).squeeze() * 0.3 * CLIP_weight[layer_index] * (1/num_augs)\n",
        "        \n",
        "      # L1 loss\n",
        "      if L1_weight[layer_index] != 0.0:\n",
        "        #L1_loss += torch.mean(torch.log((torch.abs(target - img) ** 1) +1)) * L1_weight[layer_index]\n",
        "        L1_loss += torch.mean((torch.abs(target - img) + 0.01) ** 1) * L1_weight[layer_index]\n",
        "\n",
        "      # L2 loss\n",
        "      if L2_weight[layer_index] != 0.0:\n",
        "        L1_loss += torch.mean(torch.log((torch.abs(target - img) ** 2) +1)) * L2_weight[layer_index]\n",
        "      \n",
        "      if orientation_weight[layer_index] != 0.0:#and t > 100 and t % 5 == 0: # very costly, only calculate every 5 iterations\n",
        "        orientation_loss += angle_loss(shapes, canvas_size = 224, sigma = 30) * orientation_weight[layer_index]\n",
        "\n",
        "      if SSIM_weight[layer_index] != 0.0:\n",
        "        resize = torchvision.transforms.Resize(224)\n",
        "        SSIM_loss += 1 - multiscale_structural_similarity_index_measure(resize(target) , resize(img), normalize = None, kernel_size=11) * SSIM_weight[layer_index]\n",
        "\n",
        "      # edges loss\n",
        "      if edge_weight[layer_index] != 0.0:\n",
        "        edge_loss += gradient_loss(img, target) * edge_weight[layer_index]\n",
        "\n",
        "      if tmp_weight[layer_index] != 0.0:\n",
        "        tmp_loss += lpips(target, img) * tmp_weight[layer_index]\n",
        "        \n",
        "      # Parameter distance loss\n",
        "      # target and current canvas are joined together to ensure that they get the same exact augemntation\n",
        "      if Parameter_distance_weight[layer_index] != 0.0:  \n",
        "        img_and_target = torch.cat([img, target], dim = 1)\n",
        "        img_target_augs = []\n",
        "        for n in range(num_augs):\n",
        "            img_target_augs.append(augment_trans(img_and_target))\n",
        "        im_target_batch = torch.cat(img_target_augs)\n",
        "\n",
        "        canvas_embedding = model_ft(im_target_batch[:,0:3,:,:])\n",
        "        target_embedding = model_ft(im_target_batch[:,3:6,:,:])\n",
        "        embedding_distances = torch.sum((canvas_embedding - target_embedding)**2, dim=1)\n",
        "        parameter_loss = torch.log(torch.mean(embedding_distances) * Parameter_distance_weight[layer_index] + 1) # sum over augment batch\n",
        "\n",
        "      # Sum up all the losses\n",
        "      loss = L1_loss + L2_loss + parameter_loss + CLIP_loss + edge_loss + SSIM_loss + orientation_loss + tmp_loss\n",
        "\n",
        "      # Backpropagate the gradients.\n",
        "      loss.backward()\n",
        "\n",
        "      L1_hist.append(L1_loss.detach().cpu().item())\n",
        "      L2_hist.append(L2_loss.detach().cpu().item())\n",
        "      param_hist.append(parameter_loss.detach().cpu().item())\n",
        "      clip_hist.append(CLIP_loss.detach().cpu().item())\n",
        "      edge_hist.append(edge_loss.detach().cpu().item())\n",
        "      orientation_hist.append(orientation_loss.detach().cpu().item())\n",
        "      tmp_hist.append(tmp_loss.detach().cpu().item())\n",
        "      SSIM_hist.append(SSIM_loss.detach().cpu().item())\n",
        "\n",
        "\n",
        "      # Take a gradient descent step.\n",
        "      points_optim.step()\n",
        "      width_optim.step()\n",
        "      color_optim.step()\n",
        "      for path in shapes:\n",
        "          path.stroke_width.data.clamp_(min_width[layer_index], max_width[layer_index])\n",
        "      for group in shape_groups:\n",
        "          group.stroke_color.data.clamp_(0.05, 0.95)\n",
        "          #group.stroke_color.data.clamp_(0.0, 1.0)\n",
        "\n",
        "      if t % 10 == 0:\n",
        "          show_img(img.detach().cpu().numpy()[0])\n",
        "          # show_img(torch.cat([img.detach(), img_aug.detach()], axis=3).cpu().numpy()[0])\n",
        "          print('render loss:', loss.item())\n",
        "          print(\" l1: \", L1_loss.item(), \"\\n l2: \", L2_loss.item(), \"\\n param: \", parameter_loss.item(), \"\\n clip:\", CLIP_loss.item(), \"\\n edge:\", edge_loss.item(), \"\\n orientation:\", orientation_loss.item(), \"\\n SSIM:\", SSIM_loss.item(), \"\\n TMP:\",tmp_loss.item())\n",
        "          print('iteration:', t)\n",
        "          print()\n",
        "          #with torch.no_grad():\n",
        "          #    im_norm = image_features / image_features.norm(dim=-1, keepdim=True)\n",
        "          #    noun_norm = nouns_features / nouns_features.norm(dim=-1, keepdim=True)\n",
        "          #    similarity = (100.0 * im_norm @ noun_norm.T).softmax(dim=-1)\n",
        "          #    values, indices = similarity[0].topk(5)\n",
        "          #    print(\"\\nTop predictions:\\n\")\n",
        "          #    for value, index in zip(values, indices):\n",
        "          #        print(f\"{nouns[index]:>16s}: {100 * value.item():.2f}%\")\n",
        "  \n",
        "  img_layers.append(img_copy)\n",
        "\n",
        "  # high resolution image for nice rendering\n",
        "  img_high_res = render(output_size, output_size, 4, 4, t, img_layers_high[layer_index], *scene_args)\n",
        "  img_layers_high.append(img_high_res.detach().clone())\n",
        "\n",
        "  layers.append(render(output_size, output_size, 4, 4, t, None, *scene_args).detach().clone())\n"
      ]
    },
    {
      "cell_type": "code",
      "source": [
        "plt.figure(figsize=(15,15))\n",
        "plt.axis('off')\n",
        "plt.imshow(img_layers_high[num_layers].cpu())"
      ],
      "metadata": {
        "colab": {
          "base_uri": "https://localhost:8080/",
          "height": 882
        },
        "id": "ZtvqmsTfT8pG",
        "outputId": "2d056bd9-4760-4a43-f779-7086186e77d4"
      },
      "execution_count": null,
      "outputs": [
        {
          "output_type": "stream",
          "name": "stderr",
          "text": [
            "WARNING:matplotlib.image:Clipping input data to the valid range for imshow with RGB data ([0..1] for floats or [0..255] for integers).\n"
          ]
        },
        {
          "output_type": "execute_result",
          "data": {
            "text/plain": [
              "<matplotlib.image.AxesImage at 0x7ff95c974f50>"
            ]
          },
          "metadata": {},
          "execution_count": 21
        },
        {
          "output_type": "display_data",
          "data": {
            "text/plain": [
              "<Figure size 1080x1080 with 1 Axes>"
            ],
            "image/png": "[encoded data removed]"
          },
          "metadata": {
            "needs_background": "light"
          }
        }
      ]
    },
    {
      "cell_type": "code",
      "source": [
        "# show optimization progress\n",
        "# unused losses are zero\n",
        "\n",
        "plt.plot(L1_hist)\n",
        "plt.plot(L2_hist)\n",
        "plt.plot(clip_hist)\n",
        "plt.plot(param_hist)\n",
        "plt.plot(edge_hist)\n",
        "plt.plot(orientation_hist)\n",
        "plt.plot(SSIM_hist)\n",
        "plt.plot(tmp_hist)\n",
        "plt.legend([\"L1\", \"L2\", \"CLIP\", \"param\", \"edges\", \"orientation\", \"SSIM\", \"LPIPS\"])\n"
      ],
      "metadata": {
        "colab": {
          "base_uri": "https://localhost:8080/",
          "height": 285
        },
        "id": "BnDqQQw2U68N",
        "outputId": "b1b8fd71-b19e-405b-c853-709024121d98"
      },
      "execution_count": null,
      "outputs": [
        {
          "output_type": "execute_result",
          "data": {
            "text/plain": [
              "<matplotlib.legend.Legend at 0x7fa6511eaa10>"
            ]
          },
          "metadata": {},
          "execution_count": 66
        },
        {
          "output_type": "display_data",
          "data": {
            "text/plain": [
              "<Figure size 432x288 with 1 Axes>"
            ],
            "image/png": "[encoded data removed]"
          },
          "metadata": {
            "needs_background": "light"
          }
        }
      ]
    }
  ],
  "metadata": {
    "colab": {
      "collapsed_sections": [],
      "provenance": []
    },
    "gpuClass": "standard",
    "kernelspec": {
      "display_name": "Python 3",
      "name": "python3"
    },
    "language_info": {
      "name": "python"
    },
    "accelerator": "GPU"
  },
  "nbformat": 4,
  "nbformat_minor": 0
}